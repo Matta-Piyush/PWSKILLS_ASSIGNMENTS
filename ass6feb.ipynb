{
 "cells": [
  {
   "cell_type": "markdown",
   "id": "5010b2f8-daff-4b19-9121-b21ce24ede31",
   "metadata": {},
   "source": [
    "# Ans 1"
   ]
  },
  {
   "cell_type": "code",
   "execution_count": 15,
   "id": "aab7548a-47b0-4867-aa7e-3cfc7bd4f293",
   "metadata": {},
   "outputs": [
    {
     "data": {
      "text/plain": [
       "'xsxs'"
      ]
     },
     "execution_count": 15,
     "metadata": {},
     "output_type": "execute_result"
    }
   ],
   "source": [
    "l=[1,'xs',2]\n",
    "import functools as f\n",
    "f.reduce(lambda x,y:x*y,l)"
   ]
  },
  {
   "cell_type": "markdown",
   "id": "2330d0ec-6a19-4267-a72c-62fee20eac90",
   "metadata": {},
   "source": [
    "# Ans 2"
   ]
  },
  {
   "cell_type": "code",
   "execution_count": 5,
   "id": "acd8d28b-81b8-43b5-9e6b-f34e88a07de7",
   "metadata": {},
   "outputs": [],
   "source": [
    "def encryptmsg(m):\n",
    "    msg=m.lower()\n",
    "    s=''\n",
    "    for i in msg:\n",
    "        if i=='a':\n",
    "            s+='z'\n",
    "        elif i=='b':\n",
    "            s+='y'\n",
    "        elif i=='c':\n",
    "            s+='x'\n",
    "        elif i==' ':\n",
    "            s+='$'\n",
    "        else:\n",
    "            s+=i\n",
    "    return s\n",
    "        "
   ]
  },
  {
   "cell_type": "code",
   "execution_count": 9,
   "id": "0fa71763-e3f5-4809-a3b6-e768563e1b71",
   "metadata": {},
   "outputs": [
    {
     "data": {
      "text/plain": [
       "'i$wznt$to$yexome$z$dztz$sxientist'"
      ]
     },
     "execution_count": 9,
     "metadata": {},
     "output_type": "execute_result"
    }
   ],
   "source": [
    "encryptmsg('I want to become a Data scientist')"
   ]
  },
  {
   "cell_type": "code",
   "execution_count": null,
   "id": "a7a0dd1b-9a46-4614-8431-005421a9d6b4",
   "metadata": {},
   "outputs": [],
   "source": []
  }
 ],
 "metadata": {
  "kernelspec": {
   "display_name": "Python 3 (ipykernel)",
   "language": "python",
   "name": "python3"
  },
  "language_info": {
   "codemirror_mode": {
    "name": "ipython",
    "version": 3
   },
   "file_extension": ".py",
   "mimetype": "text/x-python",
   "name": "python",
   "nbconvert_exporter": "python",
   "pygments_lexer": "ipython3",
   "version": "3.10.8"
  }
 },
 "nbformat": 4,
 "nbformat_minor": 5
}
