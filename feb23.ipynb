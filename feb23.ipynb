{
 "cells": [
  {
   "cell_type": "code",
   "execution_count": null,
   "metadata": {},
   "outputs": [],
   "source": [
    "#Ans1\n",
    "import pandas as pd\n",
    "\n",
    "# Creating a Pandas Series\n",
    "data = [4, 8, 15, 16, 23, 42]\n",
    "my_series = pd.Series(data)"
   ]
  },
  {
   "cell_type": "code",
   "execution_count": null,
   "metadata": {},
   "outputs": [],
   "source": [
    "#Ans2\n",
    "import pandas as pd\n",
    "\n",
    "# Creating a list variable\n",
    "my_list = [1, 2, 3, 4, 5, 6, 7, 8, 9, 10]\n",
    "\n",
    "# Applying pandas.Series function\n",
    "series = pd.Series(my_list)"
   ]
  },
  {
   "cell_type": "code",
   "execution_count": null,
   "metadata": {},
   "outputs": [],
   "source": [
    "Ans3\n",
    "pd.DataFrame({'Name':['Alice','Bob','Clarie'],'Age':[25,30,27],'Gender':['Female','Male','Female']})"
   ]
  },
  {
   "cell_type": "code",
   "execution_count": null,
   "metadata": {},
   "outputs": [],
   "source": [
    "#Ans4\n",
    "DataFrame: A DataFrame in Pandas is a 2-dimensional labeled data structure with columns that can be of different types. It can be thought of as a spreadsheet or SQL table, where data is organized in rows and columns.\n",
    "Pandas Series: A Pandas Series is a 1-dimensional labeled array capable of holding any data type. It can be thought of as a single column or row in a DataFrame.\n"
   ]
  },
  {
   "cell_type": "code",
   "execution_count": null,
   "metadata": {},
   "outputs": [],
   "source": [
    "Ans6\n",
    "Mutable:\n",
    "Series: Mutable.\n",
    "DataFrame: Mutable."
   ]
  },
  {
   "cell_type": "code",
   "execution_count": null,
   "metadata": {},
   "outputs": [],
   "source": [
    "Ans7\n",
    "import pandas as pd\n",
    "\n",
    "# Creating multiple Pandas Series\n",
    "names = pd.Series(['Alice', 'Bob', 'Charlie'])\n",
    "ages = pd.Series([25, 30, 22])\n",
    "cities = pd.Series(['New York', 'San Francisco', 'Los Angeles'])\n",
    "\n",
    "# Creating a DataFrame using multiple Series\n",
    "df = pd.DataFrame({'Name': names, 'Age': ages, 'City': cities})\n",
    "\n",
    "# Printing the DataFrame\n",
    "print(df)"
   ]
  },
  {
   "cell_type": "code",
   "execution_count": null,
   "metadata": {},
   "outputs": [],
   "source": []
  }
 ],
 "metadata": {
  "language_info": {
   "name": "python"
  }
 },
 "nbformat": 4,
 "nbformat_minor": 2
}
