{
 "cells": [
  {
   "cell_type": "code",
   "execution_count": null,
   "metadata": {},
   "outputs": [],
   "source": [
    "##ans1\n",
    "Simple Linear Regression:\n",
    "Involves predicting a dependent variable (response) based on a single independent variable (feature).\n",
    "\n",
    "Multiple Linear Regression:\n",
    "Involves predicting a dependent variable based on multiple independent variables.\n"
   ]
  },
  {
   "cell_type": "code",
   "execution_count": null,
   "metadata": {},
   "outputs": [],
   "source": [
    "##ans2\n",
    "Linearity: Relationship between variables is linear.\n",
    "Independence: Residuals are independent.\n",
    "Homoscedasticity: Residuals have constant variance.\n",
    "Normality: Residuals are normally distributed."
   ]
  },
  {
   "cell_type": "code",
   "execution_count": null,
   "metadata": {},
   "outputs": [],
   "source": [
    "##ans3\n",
    "slope (Coefficient): Represents the change in the dependent variable for a one-unit change in the independent variable, holding other variables constant.\n",
    "Intercept: Represents the predicted value of the dependent variable when all independent variables are zero."
   ]
  },
  {
   "cell_type": "code",
   "execution_count": null,
   "metadata": {},
   "outputs": [],
   "source": [
    "##ans4\n",
    "Optimization algorithm used to minimize the cost (loss) function."
   ]
  },
  {
   "cell_type": "code",
   "execution_count": null,
   "metadata": {},
   "outputs": [],
   "source": [
    "##ans5\n",
    "Extension of simple linear regression to include multiple independent variables."
   ]
  },
  {
   "cell_type": "code",
   "execution_count": null,
   "metadata": {},
   "outputs": [],
   "source": [
    "##ans6\n",
    "High correlation among independent variables is known as mulicolinearity."
   ]
  },
  {
   "cell_type": "code",
   "execution_count": null,
   "metadata": {},
   "outputs": [],
   "source": [
    "##ans7\n",
    "Extension of linear regression where the relationship is modeled as an nth-degree polynomial."
   ]
  },
  {
   "cell_type": "code",
   "execution_count": null,
   "metadata": {},
   "outputs": [],
   "source": [
    "##ans8\n",
    "Advantages:\n",
    "Captures non-linear patterns in data.\n",
    "Disadvantages:\n",
    "Prone to overfitting, especially with higher-degree polynomials."
   ]
  }
 ],
 "metadata": {
  "language_info": {
   "name": "python"
  }
 },
 "nbformat": 4,
 "nbformat_minor": 2
}
