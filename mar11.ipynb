{
 "cells": [
  {
   "cell_type": "code",
   "execution_count": null,
   "metadata": {},
   "outputs": [],
   "source": [
    "##ans1\n",
    "t-test: When dealing with a small sample size (typically less than 30) and the population standard deviation is unknown, a t-test is more appropriate. For example, testing if the average scores of a group of students who received a new teaching method are significantly different from the population mean.\n",
    "z-test: When the sample size is large (typically greater than 30) and the population standard deviation is known or can be reasonably assumed to be known, a z-test is appropriate. For instance, testing the average height of a large population against a known standard deviation."
   ]
  },
  {
   "cell_type": "code",
   "execution_count": null,
   "metadata": {},
   "outputs": [],
   "source": [
    "##ans2\n",
    "One-tailed test: In a one-tailed test, the critical region is on one side of the distribution, either the left or the right. It is used when you are interested in detecting an effect in a specific direction.\n",
    "Two-tailed test: In a two-tailed test, the critical region is on both sides of the distribution. It is used when you are interested in detecting an effect regardless of the direction"
   ]
  },
  {
   "cell_type": "code",
   "execution_count": null,
   "metadata": {},
   "outputs": [],
   "source": [
    "##ans3\n",
    "Type 1 error (False Positive): Incorrectly rejecting a true null hypothesis. \n",
    "Type 2 error (False Negative): Failing to reject a false null hypothesis."
   ]
  },
  {
   "cell_type": "code",
   "execution_count": null,
   "metadata": {},
   "outputs": [],
   "source": [
    "##ans4\n",
    "Bayes's Theorem calculates the probability of an event based on prior knowledge of conditions related to the event"
   ]
  },
  {
   "cell_type": "code",
   "execution_count": null,
   "metadata": {},
   "outputs": [],
   "source": [
    "##ans5\n",
    "A confidence interval is a range of values that is likely to contain the true parameter of interest with a certain level of confidence"
   ]
  },
  {
   "cell_type": "code",
   "execution_count": null,
   "metadata": {},
   "outputs": [],
   "source": [
    "##ans8\n",
    "The margin of error is the range within which we expect the true population parameter to lie. A larger sample size generally results in a smaller margin of error. For example, increasing the sample size from 100 to 400 will decrease the margin of error, providing a more precise estimate."
   ]
  },
  {
   "cell_type": "code",
   "execution_count": null,
   "metadata": {},
   "outputs": [],
   "source": [
    "##ans9\n",
    "z=X-mu/sigma"
   ]
  }
 ],
 "metadata": {
  "language_info": {
   "name": "python"
  }
 },
 "nbformat": 4,
 "nbformat_minor": 2
}
