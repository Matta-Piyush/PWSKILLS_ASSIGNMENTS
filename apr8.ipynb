{
 "cells": [
  {
   "cell_type": "code",
   "execution_count": null,
   "metadata": {},
   "outputs": [],
   "source": [
    "ans2\n",
    "If your goal is to predict the actual price of a house as accurately as possible, Mean Squared Error (MSE) would be more appropriate. MSE measures the average squared difference between the predicted and actual values. Minimizing MSE ensures that your predictions are close to the actual prices, making it suitable for accurate prediction tasks."
   ]
  },
  {
   "cell_type": "code",
   "execution_count": null,
   "metadata": {},
   "outputs": [],
   "source": [
    "ans3\n",
    "In the presence of outliers, Mean Absolute Error (MAE) or Huber Loss may be more appropriate metrics than MSE. MAE is less sensitive to outliers because it takes the absolute differences between predicted and actual values. Huber Loss combines the advantages of both MSE and MAE, providing a balance that makes it robust to outliers while still penalizing large errors.\n"
   ]
  },
  {
   "cell_type": "code",
   "execution_count": null,
   "metadata": {},
   "outputs": [],
   "source": [
    "ans4\n",
    "Since both MSE and RMSE are very close and RMSE is essentially the square root of MSE, the choice between them might not significantly impact your decision. However, RMSE is more interpretable as it is in the same unit as the target variable, and it penalizes large errors more than MSE. Therefore, RMSE might be a slightly better choice for this case."
   ]
  },
  {
   "cell_type": "code",
   "execution_count": null,
   "metadata": {},
   "outputs": [],
   "source": [
    "ans5\n",
    "If your goal is to measure how well the model explains the variance in the target variable, R-squared (coefficient of determination) would be the most appropriate metric. R-squared quantifies the proportion of variance in the dependent variable that is predictable from the independent variables. It provides an indication of how well the model fits the data and explains the variability in the target variable."
   ]
  }
 ],
 "metadata": {
  "language_info": {
   "name": "python"
  }
 },
 "nbformat": 4,
 "nbformat_minor": 2
}
