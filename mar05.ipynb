{
 "cells": [
  {
   "cell_type": "code",
   "execution_count": null,
   "metadata": {},
   "outputs": [],
   "source": [
    "##ans1\n",
    "steps:\n",
    "Import the necessary modules from Bokeh.\n",
    "Prepare the data that you want to plot.\n",
    "Use Bokeh functions to create different components of the plot (e.g., figure, glyphs, tools).\n",
    "Customize the plot appearance."
   ]
  },
  {
   "cell_type": "code",
   "execution_count": null,
   "metadata": {},
   "outputs": [],
   "source": [
    "##ans2\n",
    "Glyphs are visual shapes or markers that represent the data on the plot. In Bokeh, you can add glyphs to a plot using various functions (circle(), line(), square(), etc)."
   ]
  },
  {
   "cell_type": "code",
   "execution_count": null,
   "metadata": {},
   "outputs": [],
   "source": [
    "##ans3\n",
    "You can customize the appearance of a Bokeh plot using functions like title(), xaxis, yaxis, legend, etc."
   ]
  },
  {
   "cell_type": "code",
   "execution_count": null,
   "metadata": {},
   "outputs": [],
   "source": [
    "##ans4\n",
    "Bokeh Server is a feature that allows creating interactive plots with real-time updates. It involves creating a Bokeh application, running it using the Bokeh server, and updating the data dynamically."
   ]
  },
  {
   "cell_type": "code",
   "execution_count": null,
   "metadata": {},
   "outputs": [],
   "source": [
    "##ans5\n",
    "You can embed a Bokeh plot in a web page or dashboard using the components function in Bokeh."
   ]
  }
 ],
 "metadata": {
  "language_info": {
   "name": "python"
  }
 },
 "nbformat": 4,
 "nbformat_minor": 2
}
