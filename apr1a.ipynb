{
 "cells": [
  {
   "cell_type": "code",
   "execution_count": null,
   "metadata": {},
   "outputs": [],
   "source": [
    "##ans1\n",
    "Linear Regression:\n",
    "\n",
    "Nature: Used for predicting a continuous outcome.\n",
    "Output: Predicted values can be any real number.\n",
    "\n",
    "Logistic Regression:\n",
    "\n",
    "Nature: Used for binary classification problems.\n",
    "Output: Predicted values represent probabilities, typically constrained between 0 and 1.\n"
   ]
  },
  {
   "cell_type": "code",
   "execution_count": null,
   "metadata": {},
   "outputs": [],
   "source": [
    "##ans2\n",
    "Cost Function:\n",
    "Employs the log-likelihood or cross-entropy loss.\n",
    "Measures the difference between predicted and actual class probabilities.\n",
    "Optimization:\n",
    "Gradient descent or other optimization algorithms are used to minimize the cost function."
   ]
  },
  {
   "cell_type": "code",
   "execution_count": null,
   "metadata": {},
   "outputs": [],
   "source": [
    "##ans3\n",
    "Prevents overfitting by adding a penalty term to the cost function.\n",
    "Common regularization techniques include L1 (Lasso) and L2 (Ridge) regularization."
   ]
  },
  {
   "cell_type": "code",
   "execution_count": null,
   "metadata": {},
   "outputs": [],
   "source": [
    "##ans4\n",
    "ROC Curve:\n",
    "Receiver Operating Characteristic curve.\n",
    "Plots the true positive rate (sensitivity) against the false positive rate."
   ]
  },
  {
   "cell_type": "code",
   "execution_count": null,
   "metadata": {},
   "outputs": [],
   "source": [
    "##ans5\n",
    "Recursive Feature Elimination (RFE), L1 regularization, information gain, etc.\n",
    "Selects relevant features to improve model performance and reduce overfitting."
   ]
  },
  {
   "cell_type": "code",
   "execution_count": null,
   "metadata": {},
   "outputs": [],
   "source": [
    "##ans6\n",
    "Resampling techniques (oversampling minority, undersampling majority).\n",
    "Using different evaluation metrics (precision, recall, F1-score).\n",
    "Ensemble methods and generating synthetic samples (SMOTE)."
   ]
  },
  {
   "cell_type": "code",
   "execution_count": null,
   "metadata": {},
   "outputs": [],
   "source": [
    "##ans7\n",
    "Multicollinearity:\n",
    "Use techniques like variance inflation factor (VIF) or regularization to handle multicollinearity.\n",
    "Outliers:\n",
    "Address outliers through robust regression or preprocessing techniques."
   ]
  },
  {
   "cell_type": "code",
   "execution_count": null,
   "metadata": {},
   "outputs": [],
   "source": [
    "##ans2"
   ]
  },
  {
   "cell_type": "code",
   "execution_count": null,
   "metadata": {},
   "outputs": [],
   "source": [
    "##ans2"
   ]
  }
 ],
 "metadata": {
  "language_info": {
   "name": "python"
  }
 },
 "nbformat": 4,
 "nbformat_minor": 2
}
