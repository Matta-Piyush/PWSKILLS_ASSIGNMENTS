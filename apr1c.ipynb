{
 "cells": [
  {
   "cell_type": "code",
   "execution_count": null,
   "metadata": {},
   "outputs": [],
   "source": [
    "##ans1\n",
    "Precision: measures the accuracy of positive predictions.\n",
    "Formula: Precision = TP / (TP + FP)\n",
    "Recall: measures the ability to capture all positive instances.\n",
    "Formula: Recall = TP / (TP + FN)"
   ]
  },
  {
   "cell_type": "code",
   "execution_count": null,
   "metadata": {},
   "outputs": [],
   "source": [
    "##ans2\n",
    "The F1 score is the harmonic mean of precision and recall."
   ]
  },
  {
   "cell_type": "code",
   "execution_count": null,
   "metadata": {},
   "outputs": [],
   "source": [
    "##ans3\n",
    "ROC (Receiver Operating Characteristic) Curve:\n",
    "Graphical representation of a model's performance across different threshold values.\n",
    "Plots the true positive rate (sensitivity) against the false positive rate.\n",
    "AUC (Area Under the Curve):\n",
    "AUC quantifies the overall performance of a classification model.\n",
    "AUC close to 1 indicates a good model."
   ]
  },
  {
   "cell_type": "code",
   "execution_count": null,
   "metadata": {},
   "outputs": [],
   "source": [
    "##ans4\n",
    "Choose metrics based on the specific goals and characteristics of the problem.\n",
    "Precision, recall, F1 score, and AUC are suitable for different contexts."
   ]
  },
  {
   "cell_type": "code",
   "execution_count": null,
   "metadata": {},
   "outputs": [],
   "source": [
    "##ans5\n",
    "Multiclass classification involves predicting multiple classes rather than just two (binary)."
   ]
  },
  {
   "cell_type": "code",
   "execution_count": null,
   "metadata": {},
   "outputs": [],
   "source": [
    "##ans6\n",
    "Train multiple binary classifiers, one for each class.\n",
    "Choose the class with the highest probability as the final prediction."
   ]
  },
  {
   "cell_type": "code",
   "execution_count": null,
   "metadata": {},
   "outputs": [],
   "source": [
    "##ans8\n",
    "Model deployment involves making a trained model accessible for making predictions on new data."
   ]
  },
  {
   "cell_type": "code",
   "execution_count": null,
   "metadata": {},
   "outputs": [],
   "source": [
    "##ans9\n",
    "Benefits:\n",
    "Redundancy, scalability, and flexibility.\n",
    "Avoidance of vendor lock-in."
   ]
  }
 ],
 "metadata": {
  "language_info": {
   "name": "python"
  }
 },
 "nbformat": 4,
 "nbformat_minor": 2
}
