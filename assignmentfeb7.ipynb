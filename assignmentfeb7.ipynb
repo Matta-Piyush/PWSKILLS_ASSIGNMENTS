{
 "cells": [
  {
   "cell_type": "markdown",
   "id": "1794770b-e607-47e3-8293-615e819de3b6",
   "metadata": {},
   "source": [
    "# Ans1"
   ]
  },
  {
   "cell_type": "code",
   "execution_count": 60,
   "id": "7056ebb0-752b-4f46-9e44-8b8ffdb608fc",
   "metadata": {},
   "outputs": [],
   "source": [
    "def createpsswd():\n",
    "    psswd=input('Enter your password ')\n",
    "    if len(psswd)==10:\n",
    "        u,l,n,s=0,0,0,0\n",
    "        for i in psswd:\n",
    "            if i.isupper() :\n",
    "                u+=1\n",
    "            elif i.islower() :\n",
    "                l+=1\n",
    "            elif i.isdigit() :\n",
    "                n+=1\n",
    "            elif i in '!@#$%^&_' :\n",
    "                s+=1\n",
    "        if(u>=2 and l>=2 and n>=1 and s==3):\n",
    "            return 'Valid Password'\n",
    "        else:\n",
    "            return 'Invalid Password'\n",
    "    else:\n",
    "          return 'Invalid Password'\n",
    "    "
   ]
  },
  {
   "cell_type": "code",
   "execution_count": 61,
   "id": "217db8b0-9603-4e33-b629-c3df9eefa2fa",
   "metadata": {},
   "outputs": [
    {
     "name": "stdin",
     "output_type": "stream",
     "text": [
      "Enter your password  piYUsh#$%1\n"
     ]
    },
    {
     "data": {
      "text/plain": [
       "'Valid Password'"
      ]
     },
     "execution_count": 61,
     "metadata": {},
     "output_type": "execute_result"
    }
   ],
   "source": [
    "createpsswd()"
   ]
  },
  {
   "cell_type": "markdown",
   "id": "77733690-896e-460a-9280-bb225cab1ac3",
   "metadata": {},
   "source": [
    "# Ans2"
   ]
  },
  {
   "cell_type": "code",
   "execution_count": 62,
   "id": "74fa002c-d3ab-4d54-94cb-5c9f2c6b0c23",
   "metadata": {},
   "outputs": [
    {
     "data": {
      "text/plain": [
       "True"
      ]
     },
     "execution_count": 62,
     "metadata": {},
     "output_type": "execute_result"
    }
   ],
   "source": [
    "# checking a string if it starts with a particular letter using lambda function\n",
    "f=lambda s,a:True if s[0]==a else False\n",
    "f(\"Piyush\",'P')"
   ]
  },
  {
   "cell_type": "code",
   "execution_count": 63,
   "id": "e099b4cf-222c-41ab-8f6b-2b387cd6b78f",
   "metadata": {},
   "outputs": [
    {
     "name": "stdout",
     "output_type": "stream",
     "text": [
      "True\n",
      "False\n"
     ]
    }
   ],
   "source": [
    "# checking a string if it is numeric or not using lambda function\n",
    "f=lambda s:s.isdigit()\n",
    "print(f('64643'))\n",
    "print(f('fdsbh54'))"
   ]
  },
  {
   "cell_type": "code",
   "execution_count": 64,
   "id": "b34bb98c-bfbf-46ed-af83-d132955b0731",
   "metadata": {},
   "outputs": [
    {
     "data": {
      "text/plain": [
       "[('orange', 80), ('mango', 99), ('grapes', 1000)]"
      ]
     },
     "execution_count": 64,
     "metadata": {},
     "output_type": "execute_result"
    }
   ],
   "source": [
    "# sorting a list using lambda function\n",
    "l=[(\"mango\",99),(\"orange\",80), (\"grapes\", 1000)]\n",
    "l.sort(key=lambda i:i[1])\n",
    "l"
   ]
  },
  {
   "cell_type": "code",
   "execution_count": 65,
   "id": "d6804524-7c76-4211-830e-535251815352",
   "metadata": {},
   "outputs": [
    {
     "name": "stdout",
     "output_type": "stream",
     "text": [
      "1\n",
      "4\n",
      "9\n",
      "16\n",
      "25\n",
      "36\n",
      "49\n",
      "64\n",
      "81\n",
      "100\n"
     ]
    }
   ],
   "source": [
    "# finding the squares from 1 to 10\n",
    "for i in range(1,11):\n",
    "    f=lambda a:a**2\n",
    "    print(f(i))"
   ]
  },
  {
   "cell_type": "code",
   "execution_count": 66,
   "id": "4a98a8ea-ebeb-4124-b0af-b0200587740a",
   "metadata": {},
   "outputs": [
    {
     "name": "stdout",
     "output_type": "stream",
     "text": [
      "[1, 4, 9, 16, 25, 36, 49, 64, 81, 100]\n"
     ]
    }
   ],
   "source": [
    "# finding squares using list comprehension\n",
    "squares=[i**2 for i in range(1,11)]\n",
    "print(squares)"
   ]
  },
  {
   "cell_type": "code",
   "execution_count": 67,
   "id": "aeab8d27-ccdd-4a4d-9b78-d7a98829fdc7",
   "metadata": {},
   "outputs": [
    {
     "name": "stdout",
     "output_type": "stream",
     "text": [
      "[1, 4, 9, 16, 25, 36, 49, 64, 81, 100]\n"
     ]
    }
   ],
   "source": [
    "# finding squares using map function\n",
    "l=[i for i in range(1,11)]\n",
    "squares=list(map(lambda i:i**2,l))\n",
    "print(squares)"
   ]
  },
  {
   "cell_type": "code",
   "execution_count": 68,
   "id": "c559648a-fec7-46c8-98ed-875b5d0d4bda",
   "metadata": {},
   "outputs": [
    {
     "name": "stdout",
     "output_type": "stream",
     "text": [
      "1.0\n",
      "1.2599210498948732\n",
      "1.4422495703074083\n",
      "1.5874010519681994\n",
      "1.7099759466766968\n",
      "1.8171205928321397\n",
      "1.912931182772389\n",
      "2.0\n",
      "2.080083823051904\n",
      "2.154434690031884\n"
     ]
    }
   ],
   "source": [
    "# finding cuberoot using lambda\n",
    "for i in range(1,11):\n",
    "    f=lambda a:a**(1/3)\n",
    "    print(f(i))"
   ]
  },
  {
   "cell_type": "code",
   "execution_count": 69,
   "id": "010fc812-3862-40a5-aa0e-5d89df908a0e",
   "metadata": {},
   "outputs": [
    {
     "name": "stdout",
     "output_type": "stream",
     "text": [
      "[1.0, 1.2599210498948732, 1.4422495703074083, 1.5874010519681994, 1.7099759466766968, 1.8171205928321397, 1.912931182772389, 2.0, 2.080083823051904, 2.154434690031884]\n"
     ]
    }
   ],
   "source": [
    "# finding cuberoot using list comprehension\n",
    "cuberoot=[i**(1/3) for i in range(1,11)]\n",
    "print(cuberoot)"
   ]
  },
  {
   "cell_type": "code",
   "execution_count": 70,
   "id": "268038a0-e4bd-4078-a270-afaff6a06512",
   "metadata": {},
   "outputs": [
    {
     "name": "stdout",
     "output_type": "stream",
     "text": [
      "[1.0, 1.2599210498948732, 1.4422495703074083, 1.5874010519681994, 1.7099759466766968, 1.8171205928321397, 1.912931182772389, 2.0, 2.080083823051904, 2.154434690031884]\n"
     ]
    }
   ],
   "source": [
    "# finding cuberoot using map function\n",
    "l=[i for i in range(1,11)]\n",
    "cuberoot=list(map(lambda i:i**(1/3),l))\n",
    "print(cuberoot)"
   ]
  },
  {
   "cell_type": "code",
   "execution_count": 71,
   "id": "bf66e420-868c-438c-9c92-cda7f07eedf9",
   "metadata": {},
   "outputs": [
    {
     "name": "stdout",
     "output_type": "stream",
     "text": [
      "Even\n",
      "Odd\n"
     ]
    }
   ],
   "source": [
    "# checking if a given number is even or odd\n",
    "check=lambda i:'Even' if i%2==0 else 'Odd'\n",
    "print(check(26))\n",
    "print(check(5))"
   ]
  },
  {
   "cell_type": "code",
   "execution_count": 73,
   "id": "8babfa44-3f57-494f-9701-c3716d87ec94",
   "metadata": {},
   "outputs": [
    {
     "name": "stdout",
     "output_type": "stream",
     "text": [
      "['Even', 'Even', 'Odd', 'Odd', 'Odd', 'Even', 'Even', 'Even', 'Even', 'Odd', 'Odd']\n"
     ]
    }
   ],
   "source": [
    "# checking if a given number in a list is even or odd using map function\n",
    "l=[4,54,53,63,54567,34,6,4,34,5,7]\n",
    "check=list(map(lambda i:'Even' if i%2==0 else 'Odd',l))\n",
    "print(check)"
   ]
  },
  {
   "cell_type": "code",
   "execution_count": 74,
   "id": "34ebfb72-f450-4ad0-a6a7-2d7141ac3642",
   "metadata": {},
   "outputs": [
    {
     "name": "stdout",
     "output_type": "stream",
     "text": [
      "[1, 3, 5, 7, 9]\n"
     ]
    }
   ],
   "source": [
    "# filter odd numbers from list using filter function\n",
    "l=[1,2,3,4,5,6,7,8,9,10]\n",
    "oddnum=list(filter(lambda i:i%2!=0,l))\n",
    "print(oddnum)"
   ]
  },
  {
   "cell_type": "code",
   "execution_count": 39,
   "id": "1a32c8c4-af88-480a-a853-8e9ebfeb9fbe",
   "metadata": {},
   "outputs": [
    {
     "name": "stdout",
     "output_type": "stream",
     "text": [
      "1\n",
      "\n",
      "3\n",
      "\n",
      "5\n",
      "\n",
      "7\n",
      "\n",
      "9\n",
      "\n"
     ]
    }
   ],
   "source": [
    "# filter odd numbers from list using lambda function\n",
    "for i in l:\n",
    "    f=lambda i:i if i%2!=0 else ''\n",
    "    print(f(i))\n",
    "    \n",
    "    "
   ]
  },
  {
   "cell_type": "code",
   "execution_count": 75,
   "id": "dcf2bd19-9ee4-406a-abad-59190265427b",
   "metadata": {},
   "outputs": [
    {
     "data": {
      "text/plain": [
       "[1, 3, 5, 7, 9]"
      ]
     },
     "execution_count": 75,
     "metadata": {},
     "output_type": "execute_result"
    }
   ],
   "source": [
    "# filter odd numbers from list using list comprehension\n",
    "[i for i in l if i%2!=0]"
   ]
  },
  {
   "cell_type": "code",
   "execution_count": 76,
   "id": "37dfb7d2-1f5e-4dd4-a577-f7146ef587bc",
   "metadata": {},
   "outputs": [
    {
     "name": "stdout",
     "output_type": "stream",
     "text": [
      "[0, 1, 2, 3, 4, 5, 6]\n",
      "[-5, -4, -3, -2, -1]\n"
     ]
    }
   ],
   "source": [
    "# sorting a list into positive and negative integers list using filter function\n",
    "integers=[1,2,3,4,5,6,-1,-2,-3,-4,-5,0]\n",
    "positive_integers=list(filter(lambda i:i>=0,integers))\n",
    "negative_integers=list(filter(lambda i:i<0,integers))\n",
    "positive_integers.sort()\n",
    "negative_integers.sort()\n",
    "print(positive_integers)\n",
    "print(negative_integers)"
   ]
  },
  {
   "cell_type": "code",
   "execution_count": null,
   "id": "e1ef1ad6-4e55-4cc4-9f92-8ac24bfbba17",
   "metadata": {},
   "outputs": [],
   "source": []
  }
 ],
 "metadata": {
  "kernelspec": {
   "display_name": "Python 3 (ipykernel)",
   "language": "python",
   "name": "python3"
  },
  "language_info": {
   "codemirror_mode": {
    "name": "ipython",
    "version": 3
   },
   "file_extension": ".py",
   "mimetype": "text/x-python",
   "name": "python",
   "nbconvert_exporter": "python",
   "pygments_lexer": "ipython3",
   "version": "3.10.8"
  }
 },
 "nbformat": 4,
 "nbformat_minor": 5
}
