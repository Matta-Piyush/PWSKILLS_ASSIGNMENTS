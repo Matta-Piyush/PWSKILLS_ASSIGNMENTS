{
 "cells": [
  {
   "cell_type": "code",
   "execution_count": null,
   "metadata": {},
   "outputs": [],
   "source": [
    "##ans1\n",
    "Hybrid regression technique combining L1 (Lasso) and L2 (Ridge) regularization."
   ]
  },
  {
   "cell_type": "code",
   "execution_count": null,
   "metadata": {},
   "outputs": [],
   "source": [
    "##ans2\n",
    "cross validation\n",
    "gridsearchcv\n",
    "randomsearchcv"
   ]
  },
  {
   "cell_type": "code",
   "execution_count": null,
   "metadata": {},
   "outputs": [],
   "source": [
    "##ans3\n",
    "Advantages:\n",
    "Handles multicollinearity and performs feature selection.\n",
    "Suitable for datasets with a large number of features.\n",
    "Disadvantages:\n",
    "Computationally more expensive compared to simpler models."
   ]
  },
  {
   "cell_type": "code",
   "execution_count": null,
   "metadata": {},
   "outputs": [],
   "source": [
    "##ans4\n",
    "Multicollinearity:\n",
    "Useful when multicollinearity is present.\n",
    "Feature Selection:\n",
    "When a balance between feature selection and maintaining relevant features is needed."
   ]
  },
  {
   "cell_type": "code",
   "execution_count": null,
   "metadata": {},
   "outputs": [],
   "source": [
    "##ans5\n",
    "Some coefficients may be exactly zero, indicating feature exclusion.\n",
    "Non-zero coefficients indicate the importance of corresponding features."
   ]
  },
  {
   "cell_type": "code",
   "execution_count": null,
   "metadata": {},
   "outputs": [],
   "source": [
    "##ans6\n",
    "Imputation or Preprocessing:\n",
    "Impute missing values before applying Elastic Net Regression.\n",
    "Techniques like mean imputation or more advanced methods can be employed."
   ]
  },
  {
   "cell_type": "code",
   "execution_count": null,
   "metadata": {},
   "outputs": [],
   "source": [
    "##ans7\n",
    "Automatically performs feature selection by setting some coefficients to zero.\n",
    "Importance of features indicated by non-zero coefficients."
   ]
  },
  {
   "cell_type": "code",
   "execution_count": null,
   "metadata": {},
   "outputs": [],
   "source": [
    "##ans8\n",
    "Use the pickle module to serialize and deserialize Python objects.\n",
    "Save the trained Elastic Net model using pickle.dump() and load it using pickle.load()"
   ]
  }
 ],
 "metadata": {
  "language_info": {
   "name": "python"
  }
 },
 "nbformat": 4,
 "nbformat_minor": 2
}
