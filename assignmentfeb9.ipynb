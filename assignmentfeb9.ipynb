{
 "cells": [
  {
   "cell_type": "markdown",
   "id": "3d202609-ef5f-4431-bbd8-6495f1bc3cfe",
   "metadata": {},
   "source": [
    "# Ans1"
   ]
  },
  {
   "cell_type": "code",
   "execution_count": null,
   "id": "abd69b8c-2773-487c-ae9b-60c777c58add",
   "metadata": {},
   "outputs": [],
   "source": [
    "class Vehicle:\n",
    "    def __init__(self,name,speed,average):\n",
    "        self.name_of_vehicle=name\n",
    "        self.max_speed=speed\n",
    "        self.average_of_vehicle=average"
   ]
  },
  {
   "cell_type": "markdown",
   "id": "0f9b2822-8112-49cc-91ab-48d8fe5544f1",
   "metadata": {},
   "source": [
    "# Ans2"
   ]
  },
  {
   "cell_type": "code",
   "execution_count": 15,
   "id": "2c48cca7-728c-47d3-a94b-5a3be9d8ed49",
   "metadata": {},
   "outputs": [
    {
     "data": {
      "text/plain": [
       "('BMW', 4)"
      ]
     },
     "execution_count": 15,
     "metadata": {},
     "output_type": "execute_result"
    }
   ],
   "source": [
    "class Car(Vehicle):\n",
    "    def seating_capacity(self,capacity):\n",
    "        self.capacity=capacity\n",
    "        return self.name_of_vehicle,self.capacity\n",
    "c=Car('BMW',140,78)\n",
    "c.seating_capacity(4)"
   ]
  },
  {
   "cell_type": "markdown",
   "id": "108ed721-7c88-41c2-9439-9beee960039f",
   "metadata": {},
   "source": [
    "# Ans3"
   ]
  },
  {
   "cell_type": "code",
   "execution_count": 17,
   "id": "53297707-2427-446a-a323-0a2e22a7d350",
   "metadata": {},
   "outputs": [
    {
     "name": "stdout",
     "output_type": "stream",
     "text": [
      "Hello from class parent 1\n",
      "Namaste from class parent 2\n"
     ]
    }
   ],
   "source": [
    "#When a class is derived from more than one parent class then it is called multiple inheritance.In mutltiple\n",
    "#inheritance child class inherits both attributes and functions from all the parent classes.\n",
    "#In this case, a child class can have multiple parents.\n",
    "\n",
    "class Parent1:\n",
    "    def hello(self):\n",
    "        print('Hello from class parent 1')\n",
    "class Parent2:\n",
    "    def namaste(self):\n",
    "        print('Namaste from class parent 2')\n",
    "\n",
    "class Child(Parent1,Parent2):   # child class inheriting all features from both parent1 & parent2 class\n",
    "    pass\n",
    "\n",
    "c=Child()\n",
    "c.hello()\n",
    "c.namaste()"
   ]
  },
  {
   "cell_type": "markdown",
   "id": "14a62949-3d2e-4ae5-b3c6-7c564a6353a7",
   "metadata": {},
   "source": [
    "# Ans4"
   ]
  },
  {
   "cell_type": "code",
   "execution_count": 11,
   "id": "ed0b03ab-1ffc-4843-bf71-ba12fb7024ce",
   "metadata": {},
   "outputs": [],
   "source": [
    "'''\n",
    "Getters and Setters are used to achieve Encapsulation.Getters and Setters are method which are used to access\n",
    "or modify private variables.The private variables can't be accessed directly or modified by the external user.\n",
    "They can only be accessed by these methods.\n",
    "\n",
    "Suppose there is a class named 'ATM'.In this class there are some instance variables like pin,balance,etc.\n",
    "Now these variables can be accessed by any user outside the class.Therefore we will make these variables \n",
    "private.Now the private variables can't be accessed by any user.So we will create getters and setters to\n",
    "retrieve and set the value respectively.\n",
    "'''\n",
    "\n",
    "class Customer:\n",
    "    def __init__(self,name,gender,psswd):\n",
    "        self.name=name\n",
    "        self.gender=gender\n",
    "        self.__psswd=psswd           # private variable --> It can only be accessed by getters and setters\n",
    "        \n",
    "    def setpsswd(self,psswd):        # setter\n",
    "        self.__psswd=psswd         \n",
    "    def getpsswd(self):              # getter\n",
    "        return self.__psswd"
   ]
  },
  {
   "cell_type": "code",
   "execution_count": 12,
   "id": "a9b80ce3-d75a-45e4-8ba6-0f553c8cc4f6",
   "metadata": {},
   "outputs": [
    {
     "name": "stdout",
     "output_type": "stream",
     "text": [
      "5454\n",
      "1111\n"
     ]
    }
   ],
   "source": [
    "c=Customer('Piyush','Male',5454)\n",
    "print(c.getpsswd())\n",
    "c.setpsswd(1111)\n",
    "print(c.getpsswd())"
   ]
  },
  {
   "cell_type": "markdown",
   "id": "0ab36054-b95c-4851-8eba-58497cc7e6e5",
   "metadata": {},
   "source": [
    "# Ans5"
   ]
  },
  {
   "cell_type": "code",
   "execution_count": 3,
   "id": "70e765a3-3d07-4949-ab4e-a1f41a5dd6e1",
   "metadata": {},
   "outputs": [
    {
     "name": "stdout",
     "output_type": "stream",
     "text": [
      "Dog likes bones to eat\n",
      "Dog is walking\n",
      "Monkey is eating banana\n",
      "Animal is walking\n"
     ]
    }
   ],
   "source": [
    "'''Mehod overiding is an ability that allows child class to provide a specific implemntation of a method that is already\n",
    "provided by one of its parent classes.\n",
    "Suppose parent and child class have a method with same name and same signature.If an object of a child class is used to\n",
    "invoke this method,then the method inside child class is excecuted.'''\n",
    "\n",
    "class Animal:\n",
    "    def eat(self):\n",
    "        print('Animal is eating')\n",
    "    def walk(self):\n",
    "        print('Animal is walking')\n",
    "class Dog(Animal):\n",
    "    def eat(self):                                   # Method Overriding\n",
    "        print('Dog likes bones to eat')\n",
    "    def walk(self):\n",
    "        print('Dog is walking')\n",
    "class Monkey(Animal):\n",
    "    def eat(self):\n",
    "        print('Monkey is eating banana')\n",
    "        \n",
    "d=Dog()\n",
    "m=Monkey()\n",
    "d.eat()\n",
    "d.walk()\n",
    "m.eat()              # Monkey class has eat method inside.Therefore,eat method inside Monkey class gets excecuted.\n",
    "m.walk()             # Monkey class doesnot have walk method inside it.Therefore,walk method inside Animal class gets excecuted"
   ]
  },
  {
   "cell_type": "code",
   "execution_count": null,
   "id": "62221746-10ff-4e5a-a22e-b9676464768b",
   "metadata": {},
   "outputs": [],
   "source": []
  }
 ],
 "metadata": {
  "kernelspec": {
   "display_name": "Python 3 (ipykernel)",
   "language": "python",
   "name": "python3"
  },
  "language_info": {
   "codemirror_mode": {
    "name": "ipython",
    "version": 3
   },
   "file_extension": ".py",
   "mimetype": "text/x-python",
   "name": "python",
   "nbconvert_exporter": "python",
   "pygments_lexer": "ipython3",
   "version": "3.10.8"
  }
 },
 "nbformat": 4,
 "nbformat_minor": 5
}
