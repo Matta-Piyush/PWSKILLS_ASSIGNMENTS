{
 "cells": [
  {
   "cell_type": "code",
   "execution_count": null,
   "metadata": {},
   "outputs": [],
   "source": [
    "##ans1\n",
    "Hierarchical clustering is a clustering technique that organizes data into a hierarchical structure of clusters. It differs from other clustering techniques in that it creates a tree-like structure (dendrogram) where clusters at different levels represent nested relationships. Hierarchical clustering does not require specifying the number of clusters in advance."
   ]
  },
  {
   "cell_type": "code",
   "execution_count": null,
   "metadata": {},
   "outputs": [],
   "source": [
    "##ans2\n",
    "Agglomerative Hierarchical Clustering:\n",
    "\n",
    "Starts with each data point as a separate cluster and merges the closest clusters iteratively.\n",
    "Continues until all data points belong to a single cluster.\n",
    "Common linkage methods include single linkage, complete linkage, and average linkage.\n",
    "Divisive Hierarchical Clustering:\n",
    "\n",
    "Begins with all data points in a single cluster and splits clusters recursively.\n",
    "Continues until each data point is in a separate cluster.\n",
    "Less common than agglomerative clustering."
   ]
  },
  {
   "cell_type": "code",
   "execution_count": null,
   "metadata": {},
   "outputs": [],
   "source": [
    "##ans3\n",
    "Single Linkage: Minimum distance between any two points in the clusters.\n",
    "Complete Linkage: Maximum distance between any two points in the clusters.\n",
    "Average Linkage: Average distance between all pairs of points in the clusters."
   ]
  },
  {
   "cell_type": "code",
   "execution_count": null,
   "metadata": {},
   "outputs": [],
   "source": [
    "##ans4\n",
    "Dendrogram Inspection: Look for a significant increase in the vertical distance between branches in the dendrogram.\n",
    "Cutting the Dendrogram: Visually identify a point to cut the dendrogram, creating the desired number of clusters."
   ]
  },
  {
   "cell_type": "code",
   "execution_count": null,
   "metadata": {},
   "outputs": [],
   "source": [
    "##ans5\n",
    "A dendrogram is a tree-like diagram that represents the hierarchy of clusters in hierarchical clustering. It visually displays the relationships between clusters and their nested structure. Dendrograms are useful for:\n",
    "\n",
    "Understanding the hierarchy of clusters.\n",
    "Identifying the optimal number of clusters."
   ]
  },
  {
   "cell_type": "code",
   "execution_count": null,
   "metadata": {},
   "outputs": [],
   "source": [
    "##ans6\n",
    "Yes, hierarchical clustering can be used for both numerical and categorical data. The choice of distance metric depends on the data type:\n",
    "\n",
    "Numerical Data: Common distance metrics include Euclidean distance, Manhattan distance, and correlation.\n",
    "Categorical Data: Use appropriate metrics such as Jaccard distance or Hamming distance."
   ]
  },
  {
   "cell_type": "code",
   "execution_count": null,
   "metadata": {},
   "outputs": [],
   "source": [
    "##ans7\n",
    "Hierarchical clustering can be used to identify outliers by examining the structure of the dendrogram. Outliers may form their own distinct branches or clusters, appearing as singletons or small, isolated subtrees. Observing such patterns in the dendrogram can help identify data points that deviate significantly from the majority of the data."
   ]
  }
 ],
 "metadata": {
  "language_info": {
   "name": "python"
  }
 },
 "nbformat": 4,
 "nbformat_minor": 2
}
