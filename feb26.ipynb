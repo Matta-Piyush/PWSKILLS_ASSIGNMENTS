{
 "cells": [
  {
   "cell_type": "code",
   "execution_count": null,
   "metadata": {},
   "outputs": [],
   "source": [
    "ans1\n",
    "import numpy as np\n",
    "\n",
    "list_ = ['1', '2', '3', '4', '5']\n",
    "array_list = np.array(object=list_)\n",
    "\n",
    "print(\"Data Type of list_: \", type(list_))\n",
    "print(\"Data Type of array_list: \", type(array_list))"
   ]
  },
  {
   "cell_type": "code",
   "execution_count": null,
   "metadata": {},
   "outputs": [],
   "source": [
    "ans2\n",
    "for element in list_:\n",
    "    print(f\"Data Type of element in list_: {element} is {type(element)}\")\n",
    "\n",
    "for element in array_list:\n",
    "    print(f\"Data Type of element in array_list: {element} is {type(element)}\")\n"
   ]
  },
  {
   "cell_type": "code",
   "execution_count": null,
   "metadata": {},
   "outputs": [],
   "source": [
    "ans3\n",
    "array_list = np.array(object=list_, dtype=int)\n",
    "\n",
    "for element in list_:\n",
    "    print(f\"Data Type of element in list_: {element} is {type(element)}\")\n",
    "\n",
    "for element in array_list:\n",
    "    print(f\"Data Type of element in array_list: {element} is {type(element)}\")\n"
   ]
  },
  {
   "cell_type": "code",
   "execution_count": null,
   "metadata": {},
   "outputs": [],
   "source": [
    "ans4\n",
    "num_list = [[1, 2, 3], [4, 5, 6]]\n",
    "num_array = np.array(object=num_list)\n",
    "\n",
    "print(\"Shape of num_array: \", num_array.shape)\n",
    "print(\"Size of num_array: \", num_array.size)"
   ]
  },
  {
   "cell_type": "code",
   "execution_count": null,
   "metadata": {},
   "outputs": [],
   "source": [
    "ans5\n",
    "zeros_array = np.zeros((3, 3))\n",
    "print(\"Zeros Array:\\n\", zeros_array)"
   ]
  },
  {
   "cell_type": "code",
   "execution_count": null,
   "metadata": {},
   "outputs": [],
   "source": [
    "ans6\n",
    "identity_matrix = np.eye(5)\n",
    "print(\"Identity Matrix:\\n\", identity_matrix)"
   ]
  }
 ],
 "metadata": {
  "language_info": {
   "name": "python"
  }
 },
 "nbformat": 4,
 "nbformat_minor": 2
}
