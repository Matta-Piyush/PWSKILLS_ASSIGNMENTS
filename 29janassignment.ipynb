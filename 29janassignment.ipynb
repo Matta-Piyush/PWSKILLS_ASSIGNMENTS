{
 "cells": [
  {
   "cell_type": "code",
   "execution_count": null,
   "id": "aaa87324-00bd-4c28-8dc9-f6ea250b5736",
   "metadata": {},
   "outputs": [],
   "source": [
    "# Ans1"
   ]
  },
  {
   "cell_type": "code",
   "execution_count": null,
   "id": "6d924fce-ce75-4599-b4e8-1430ff45e0ed",
   "metadata": {},
   "outputs": [],
   "source": [
    "Python was developed by Guido Van Rosssum"
   ]
  },
  {
   "cell_type": "code",
   "execution_count": null,
   "id": "70f35f33-89d3-4c85-a29a-90f5f500781d",
   "metadata": {},
   "outputs": [],
   "source": [
    "# Ans2"
   ]
  },
  {
   "cell_type": "code",
   "execution_count": null,
   "id": "1de3fd81-9628-4b9b-9e9d-c11fa3f4d119",
   "metadata": {},
   "outputs": [],
   "source": [
    "Python is a high level language. It support object oriented programming (OOP)."
   ]
  },
  {
   "cell_type": "code",
   "execution_count": null,
   "id": "651ae393-b894-4f04-be95-6deb3257d0b8",
   "metadata": {},
   "outputs": [],
   "source": [
    "Yes,Python is a case sensitive language.It treats both uppercase and lowercase letters differntly.\n",
    "Example--> Name='Piyush'\n",
    "           name='Ajay'\n",
    "Here,both variables Name and name are treated diiferently in python as it is a case sensitive language."
   ]
  },
  {
   "cell_type": "code",
   "execution_count": null,
   "id": "3a02e23b-8c13-4916-adc6-f2cdcbe710e9",
   "metadata": {},
   "outputs": [],
   "source": [
    "# Ans3"
   ]
  },
  {
   "cell_type": "code",
   "execution_count": null,
   "id": "8d8755b2-0369-40b5-a77a-49b9bc2ec13c",
   "metadata": {},
   "outputs": [],
   "source": [
    ".py is the extension of python file."
   ]
  },
  {
   "cell_type": "code",
   "execution_count": null,
   "id": "dd48a25e-e418-44aa-adfd-379b31964385",
   "metadata": {},
   "outputs": [],
   "source": [
    "# Ans4"
   ]
  },
  {
   "cell_type": "code",
   "execution_count": null,
   "id": "6c695ff5-8724-4772-a40b-56ef1424b045",
   "metadata": {},
   "outputs": [],
   "source": [
    "Python is an interpreted language.An interpreter translates the entire source code line by line."
   ]
  },
  {
   "cell_type": "code",
   "execution_count": null,
   "id": "c0b174e1-f087-4099-8104-bd0627748913",
   "metadata": {},
   "outputs": [],
   "source": [
    "# Ans5"
   ]
  },
  {
   "cell_type": "code",
   "execution_count": null,
   "id": "ed87557e-ff8f-4c79-890a-1c66e0f0bb01",
   "metadata": {},
   "outputs": [],
   "source": []
  },
  {
   "cell_type": "code",
   "execution_count": null,
   "id": "9ce60238-ba4f-4f3d-8773-8fcc2b0c01d0",
   "metadata": {},
   "outputs": [],
   "source": [
    "# Ans6"
   ]
  },
  {
   "cell_type": "code",
   "execution_count": null,
   "id": "9e0e16ea-3fe7-436a-a49e-6a39a8823cf5",
   "metadata": {},
   "outputs": [],
   "source": [
    "In python, '#' character is used to give single line comment."
   ]
  },
  {
   "cell_type": "code",
   "execution_count": null,
   "id": "02878024-0d2a-43ff-be86-98ba39dfa181",
   "metadata": {},
   "outputs": [],
   "source": [
    "# Ans7"
   ]
  },
  {
   "cell_type": "code",
   "execution_count": 4,
   "id": "136847f3-de37-42b7-ae25-ca0d1be4739c",
   "metadata": {},
   "outputs": [
    {
     "data": {
      "text/plain": [
       "'3.10.8 | packaged by conda-forge | (main, Nov 22 2022, 08:26:04) [GCC 10.4.0]'"
      ]
     },
     "execution_count": 4,
     "metadata": {},
     "output_type": "execute_result"
    }
   ],
   "source": [
    "# In order to find the current version of python we need to import sys library.\n",
    "# Inside sys library there is a sys.version command by which user can find the current version of python.\n",
    "import sys\n",
    "sys.version"
   ]
  },
  {
   "cell_type": "code",
   "execution_count": null,
   "id": "977bf28d-2405-4c11-8386-075ad1dea29e",
   "metadata": {},
   "outputs": [],
   "source": [
    "python uses a construct called lambda. Lambda functions are anonymous functions which are declared in a single line.\n",
    "These functions are without name."
   ]
  },
  {
   "cell_type": "code",
   "execution_count": null,
   "id": "c31692ee-f915-442e-9f6c-f70a5018b025",
   "metadata": {},
   "outputs": [],
   "source": [
    "pip stands for preferred installer program."
   ]
  },
  {
   "cell_type": "code",
   "execution_count": null,
   "id": "1f205a6d-0323-4a17-b5c8-cb88212b62d8",
   "metadata": {},
   "outputs": [],
   "source": [
    "Bulit in functions in python are as follows:\n",
    "    print()\n",
    "    len()\n",
    "    type()\n",
    "    id()\n",
    "    input()\n",
    "    max()"
   ]
  },
  {
   "cell_type": "code",
   "execution_count": null,
   "id": "b9d2c43e-82d9-43dd-809a-f04ad08e363f",
   "metadata": {},
   "outputs": [],
   "source": [
    "An identifier can have a maximum possible length of 79 characters."
   ]
  },
  {
   "cell_type": "code",
   "execution_count": null,
   "id": "2b64d315-dd92-4ffc-8041-4814c74938ec",
   "metadata": {},
   "outputs": [],
   "source": [
    "Benefits of using python:\n",
    "    Python is a language which is easy to read,learn and write.It supports all the modern features like OOP and functional programming.\n",
    "    Python is a free and open source lamguage.\n",
    "    Pthon is a portable language that means it can run on any platform like windows,linux etc without changing the code.\n",
    "    It is easy for a programmer to debug the code in python.\n",
    "    The same program which is written in other high level languages like c++,java,etc can be writen in one third or one fifth line of code.\n",
    "    Python also includes a huge number of libraries that the user can use.Python has a lot of inbuilt libraries.Apart from this,there is\n",
    "    a huge list of third party libraries like numpy,matplotlib,etc."
   ]
  },
  {
   "cell_type": "code",
   "execution_count": null,
   "id": "bb996cc6-d0ad-432c-b4f0-446b5d833eb0",
   "metadata": {},
   "outputs": [],
   "source": []
  }
 ],
 "metadata": {
  "kernelspec": {
   "display_name": "Python 3 (ipykernel)",
   "language": "python",
   "name": "python3"
  },
  "language_info": {
   "codemirror_mode": {
    "name": "ipython",
    "version": 3
   },
   "file_extension": ".py",
   "mimetype": "text/x-python",
   "name": "python",
   "nbconvert_exporter": "python",
   "pygments_lexer": "ipython3",
   "version": "3.10.8"
  }
 },
 "nbformat": 4,
 "nbformat_minor": 5
}
