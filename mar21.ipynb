{
 "cells": [
  {
   "cell_type": "code",
   "execution_count": null,
   "metadata": {},
   "outputs": [],
   "source": [
    "##ans1\n",
    "Ordinal Encoding:\n",
    "Assigns integers based on the ordinal relationship between categories.\n",
    "Label Encoding:\n",
    "Assigns unique integers without considering the ordinal relationship.\n"
   ]
  },
  {
   "cell_type": "code",
   "execution_count": null,
   "metadata": {},
   "outputs": [],
   "source": [
    "##ans2\n",
    "assigns ordinal ranks based on the mean of the target variable for each category.A"
   ]
  },
  {
   "cell_type": "code",
   "execution_count": null,
   "metadata": {},
   "outputs": [],
   "source": [
    "##ans3\n",
    "Covariance measures the degree of dependency between two variables."
   ]
  },
  {
   "cell_type": "code",
   "execution_count": null,
   "metadata": {},
   "outputs": [],
   "source": [
    "##ans4\n",
    "from sklearn.preprocessing import LabelEncoder\n",
    "\n",
    "# DataFrame\n",
    "data = {'Color': ['red', 'green', 'blue'],\n",
    "        'Size': ['small', 'medium', 'large'],\n",
    "        'Material': ['wood', 'metal', 'plastic']}\n",
    "\n",
    "df = pd.DataFrame(data)\n",
    "label_encoder = LabelEncoder()\n",
    "for column in df.columns:\n",
    "    df[column + '_encoded'] = label_encoder.fit_transform(df[column])\n",
    "\n",
    "print(df)\n"
   ]
  },
  {
   "cell_type": "code",
   "execution_count": null,
   "metadata": {},
   "outputs": [],
   "source": [
    "##ans5\n",
    "matrix = data[['Age', 'Income', 'Education_Level']].cov()\n"
   ]
  },
  {
   "cell_type": "code",
   "execution_count": null,
   "metadata": {},
   "outputs": [],
   "source": [
    "##ans6\n",
    "Gender: Label Encoding (2 categories, no ordinal relationship).\n",
    "Education Level: Ordinal Encoding (clear ordinal relationship).\n",
    "Employment Status: One-Hot Encoding (no ordinal relationship)."
   ]
  },
  {
   "cell_type": "code",
   "execution_count": null,
   "metadata": {},
   "outputs": [],
   "source": [
    "##ans7\n",
    "Positive covariance: Variables move in the same direction.\n",
    "Negative covariance: Variables move in opposite directions.\n",
    "Magnitude indicates the strength of the relationship."
   ]
  },
  {
   "cell_type": "code",
   "execution_count": null,
   "metadata": {},
   "outputs": [],
   "source": [
    "##ans2"
   ]
  }
 ],
 "metadata": {
  "language_info": {
   "name": "python"
  }
 },
 "nbformat": 4,
 "nbformat_minor": 2
}
