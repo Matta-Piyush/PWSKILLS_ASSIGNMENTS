{
 "cells": [
  {
   "cell_type": "code",
   "execution_count": null,
   "metadata": {},
   "outputs": [],
   "source": [
    "##ans1\n",
    "The three measures of central tendency are:\n",
    "Mean: The average value.\n",
    "Median: The middle value.\n",
    "Mode: The most frequently occurring value."
   ]
  },
  {
   "cell_type": "code",
   "execution_count": null,
   "metadata": {},
   "outputs": [],
   "source": [
    "##ans2\n",
    "Mean: Calculated as the sum of all values divided by the number of values.\n",
    "Median: The middle value when data is ordered; it divides the data into two equal halves.\n",
    "Mode: The value that occurs most frequently in the dataset."
   ]
  },
  {
   "cell_type": "code",
   "execution_count": null,
   "metadata": {},
   "outputs": [],
   "source": [
    "##ans5\n",
    "Range: Difference between the maximum and minimum values.\n",
    "Variance: Average of squared differences from the mean.\n",
    "Standard Deviation: Square root of the variance; measures average deviation from the mean."
   ]
  },
  {
   "cell_type": "code",
   "execution_count": null,
   "metadata": {},
   "outputs": [],
   "source": [
    "##ans6\n",
    "A Venn diagram is a visual representation of the relationships between sets. It consists of overlapping circles or other shapes, each representing a set, with common elements shown in the overlapping areas."
   ]
  },
  {
   "cell_type": "code",
   "execution_count": null,
   "metadata": {},
   "outputs": [],
   "source": [
    "##ans7\n",
    "a)   2,6\n",
    "b)   0,2,3,4,5,6,7,8,10"
   ]
  },
  {
   "cell_type": "code",
   "execution_count": null,
   "metadata": {},
   "outputs": [],
   "source": [
    "##ans8\n",
    "Skewness measures the asymmetry or departure from a normal distribution in a dataset."
   ]
  },
  {
   "cell_type": "code",
   "execution_count": null,
   "metadata": {},
   "outputs": [],
   "source": [
    "##ans9\n",
    "In right-skewed data, the median is less than the mean."
   ]
  },
  {
   "cell_type": "code",
   "execution_count": null,
   "metadata": {},
   "outputs": [],
   "source": [
    "##ans10\n",
    "Covariance: Measures the degree of joint variability between two variables. \n",
    " \n",
    "Correlation: Standardized measure of the strength and direction of the linear relationship between two variables."
   ]
  },
  {
   "cell_type": "code",
   "execution_count": null,
   "metadata": {},
   "outputs": [],
   "source": [
    "##ans11 \n",
    "mean=sum of observations/total no of observations\n",
    "example-> \n",
    "10,100,250,20,30,50,100 are the no of daily active users availing the service of a company\n",
    "the mean would be 560/7"
   ]
  },
  {
   "cell_type": "code",
   "execution_count": null,
   "metadata": {},
   "outputs": [],
   "source": [
    "##ans12\n",
    "In a normal distribution, mean = median = mode."
   ]
  },
  {
   "cell_type": "code",
   "execution_count": null,
   "metadata": {},
   "outputs": [],
   "source": [
    "##ans13\n",
    "Covariance is not standardized and can range from negative to positive infinity.\n",
    "Correlation is standardized, ranging from -1 to 1."
   ]
  },
  {
   "cell_type": "code",
   "execution_count": null,
   "metadata": {},
   "outputs": [],
   "source": [
    "##ans14\n",
    "Outliers can significantly affect the mean but have less impact on the median."
   ]
  }
 ],
 "metadata": {
  "language_info": {
   "name": "python"
  }
 },
 "nbformat": 4,
 "nbformat_minor": 2
}
