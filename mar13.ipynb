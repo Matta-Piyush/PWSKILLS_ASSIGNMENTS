{
 "cells": [
  {
   "cell_type": "code",
   "execution_count": null,
   "metadata": {},
   "outputs": [],
   "source": [
    "##ans1\n",
    "Assumptions for ANOVA include:\n",
    "\n",
    "Normality of residuals.\n",
    "Homogeneity of variances.\n",
    "Independence of observations."
   ]
  },
  {
   "cell_type": "code",
   "execution_count": null,
   "metadata": {},
   "outputs": [],
   "source": [
    "##ans2\n",
    "types:\n",
    "One-way ANOVA: Used when comparing means across multiple independent groups.\n",
    "Two-way ANOVA: Examines the influence of two categorical independent variables."
   ]
  },
  {
   "cell_type": "code",
   "execution_count": null,
   "metadata": {},
   "outputs": [],
   "source": [
    "##ans3\n",
    "Partitioning of variance involves breaking down the total variability in the data into components due to different sources (e.g., treatment effects and random error). It is crucial for understanding the relative importance of these sources in explaining the variability in the dependent variable."
   ]
  },
  {
   "cell_type": "code",
   "execution_count": null,
   "metadata": {},
   "outputs": [],
   "source": [
    "##ans6\n",
    "With an F-statistic of 5.23 and a p-value of 0.02, you can conclude that there are significant differences between the groups. The p-value indicates that the observed differences are unlikely due to random chance."
   ]
  },
  {
   "cell_type": "code",
   "execution_count": null,
   "metadata": {},
   "outputs": [],
   "source": [
    "##ans7\n",
    "Handling missing data involves imputation or exclusion. The choice depends on the nature of the missingness. "
   ]
  },
  {
   "cell_type": "code",
   "execution_count": null,
   "metadata": {},
   "outputs": [],
   "source": [
    "##ans8\n",
    "Tukey's HSD: Compares all possible pairs of group means.\n",
    "Bonferroni Correction: Adjusts significance levels to control for familywise error rate.\n",
    "Scheffé's Test: Suitable for unequal sample sizes."
   ]
  }
 ],
 "metadata": {
  "language_info": {
   "name": "python"
  }
 },
 "nbformat": 4,
 "nbformat_minor": 2
}
