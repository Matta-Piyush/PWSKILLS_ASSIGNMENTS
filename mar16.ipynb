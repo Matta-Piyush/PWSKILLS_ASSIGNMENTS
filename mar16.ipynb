{
 "cells": [
  {
   "cell_type": "code",
   "execution_count": null,
   "metadata": {},
   "outputs": [],
   "source": [
    "##ans1\n",
    "Overfitting: Occurs when a model learns the training data too well, capturing noise and patterns that don't generalize to new data. Consequences include poor performance on new data.\n",
    "\n",
    "Underfitting: Occurs when a model is too simple to capture the underlying patterns in the data. Consequences include poor performance on both training and new data."
   ]
  },
  {
   "cell_type": "code",
   "execution_count": null,
   "metadata": {},
   "outputs": [],
   "source": [
    "##ans2\n",
    "Cross-validation: Evaluate the model's performance on multiple subsets of the data.\n",
    "Regularization: Add penalties to the model parameters to prevent overfitting.\n",
    "Feature selection: Choose relevant features to reduce model complexity."
   ]
  },
  {
   "cell_type": "code",
   "execution_count": null,
   "metadata": {},
   "outputs": [],
   "source": [
    "##ans3\n",
    "Occurs when a model is too simple to capture the underlying patterns. It can happen when the model is not complex enough or when insufficient features are considered."
   ]
  },
  {
   "cell_type": "code",
   "execution_count": null,
   "metadata": {},
   "outputs": [],
   "source": [
    "##ans4\n",
    "Bias: Error due to overly simplistic assumptions; high bias leads to underfitting.\n",
    "Variance: Error due to too much complexity; high variance leads to overfitting.\n",
    "The tradeoff involves finding the right balance to minimize both bias and variance for optimal model performance."
   ]
  },
  {
   "cell_type": "code",
   "execution_count": null,
   "metadata": {},
   "outputs": [],
   "source": [
    "##ans5\n",
    "Overfitting: High accuracy on training data but low accuracy on test data.\n",
    "Underfitting: Low accuracy on both training and test data."
   ]
  },
  {
   "cell_type": "code",
   "execution_count": null,
   "metadata": {},
   "outputs": [],
   "source": [
    "##ans6\n",
    "High Bias (Underfitting): Fails to capture underlying patterns; model is too simplistic.\n",
    "High Variance (Overfitting): Captures noise and fluctuations; model is too complex."
   ]
  },
  {
   "cell_type": "code",
   "execution_count": null,
   "metadata": {},
   "outputs": [],
   "source": [
    "##ans7\n",
    "Techniques to prevent overfitting by adding penalties to large model parameters.\n",
    "\n",
    "Common Techniques:\n",
    "\n",
    "L1 Regularization (Lasso): Adds the absolute values of coefficients to the cost function.\n",
    "L2 Regularization (Ridge): Adds the squares of coefficients to the cost function.\n",
    "Elastic Net: Combines L1 and L2 regularization."
   ]
  }
 ],
 "metadata": {
  "language_info": {
   "name": "python"
  }
 },
 "nbformat": 4,
 "nbformat_minor": 2
}
