{
 "cells": [
  {
   "cell_type": "code",
   "execution_count": null,
   "metadata": {},
   "outputs": [],
   "source": [
    "##ans1\n",
    "It is a branch of mathematics that involves collecting, analyzing, interpreting, presenting, and organizing data. It provides methods for drawing inferences about the characteristics of a population based on a subset of the population, known as a sample."
   ]
  },
  {
   "cell_type": "code",
   "execution_count": null,
   "metadata": {},
   "outputs": [],
   "source": [
    "##ans2\n",
    "Two types are:\n",
    "Descriptive Statistics: Describes and summarizes the main features of a dataset.\n",
    "Inferential Statistics: Makes inferences about a population based on a sample from that population."
   ]
  },
  {
   "cell_type": "code",
   "execution_count": null,
   "metadata": {},
   "outputs": [],
   "source": [
    "##ans3\n",
    "Nominal Data: Categorical data with no inherent order.\n",
    "\n",
    "Ordinal Data: Categorical data with a meaningful order.\n",
    "\n",
    "Interval Data: Numerical data where differences between values are meaningful, but there is no true zero.\n",
    "\n",
    "Ratio Data: Numerical data with a true zero point, where ratios are meaningful."
   ]
  },
  {
   "cell_type": "code",
   "execution_count": null,
   "metadata": {},
   "outputs": [],
   "source": [
    "##ans5\n",
    "Nominal Level: Represents categories with no inherent order.\n",
    "\n",
    "Ordinal Level: Represents categories with a meaningful order.\n",
    "\n",
    "Interval Level: Represents data with meaningful differences, but no true zero.\n",
    "\n",
    "Ratio Level: Represents data with a true zero point and meaningful ratios."
   ]
  },
  {
   "cell_type": "code",
   "execution_count": null,
   "metadata": {},
   "outputs": [],
   "source": [
    "##ans6\n",
    "Understanding the level of measurement is crucial because it determines the statistical analyses that can be applied. For example, you cannot calculate meaningful averages for nominal data."
   ]
  },
  {
   "cell_type": "code",
   "execution_count": null,
   "metadata": {},
   "outputs": [],
   "source": [
    "##ans7\n",
    "The key difference is the presence of meaningful order in ordinal data, whereas nominal data lacks any inherent order."
   ]
  },
  {
   "cell_type": "code",
   "execution_count": null,
   "metadata": {},
   "outputs": [],
   "source": [
    "##ans8\n",
    "A Box Plot (Box-and-Whisker Plot) is commonly used to display data in terms of range."
   ]
  },
  {
   "cell_type": "code",
   "execution_count": null,
   "metadata": {},
   "outputs": [],
   "source": [
    "##ans9\n",
    "Descriptive Statistics: Describes and summarizes the main features of a dataset.\n",
    "Inferential Statistics: Makes inferences about a population based on a sample from that population."
   ]
  },
  {
   "cell_type": "code",
   "execution_count": null,
   "metadata": {},
   "outputs": [],
   "source": [
    "##ans10\n",
    "Central Tendency Measures:\n",
    "\n",
    "Mean: Average value.\n",
    "Median: Middle value.\n",
    "Mode: Most frequently occurring value."
   ]
  }
 ],
 "metadata": {
  "language_info": {
   "name": "python"
  }
 },
 "nbformat": 4,
 "nbformat_minor": 2
}
