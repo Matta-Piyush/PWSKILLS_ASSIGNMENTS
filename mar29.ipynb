{
 "cells": [
  {
   "cell_type": "code",
   "execution_count": null,
   "metadata": {},
   "outputs": [],
   "source": [
    "##ans1\n",
    "Addresses multicollinearity and performs feature selection."
   ]
  },
  {
   "cell_type": "code",
   "execution_count": null,
   "metadata": {},
   "outputs": [],
   "source": [
    "##ans2\n",
    "Lasso tends to produce sparse models by pushing some coefficients to exactly zero."
   ]
  },
  {
   "cell_type": "code",
   "execution_count": null,
   "metadata": {},
   "outputs": [],
   "source": [
    "##ans3\n",
    "Coefficients are shrunk towards zero, and some are precisely zero.\n",
    "Non-zero coefficients indicate the importance of corresponding features."
   ]
  },
  {
   "cell_type": "code",
   "execution_count": null,
   "metadata": {},
   "outputs": [],
   "source": [
    "##ans5\n",
    "Lasso Regression is fundamentally a linear model and might not capture non-linear relationships well.\n",
    "For non-linear problems, alternative methods like kernelized SVM or decision trees might be more suitable."
   ]
  },
  {
   "cell_type": "code",
   "execution_count": null,
   "metadata": {},
   "outputs": [],
   "source": [
    "##ans6\n",
    "Ridge Regression tends to shrink coefficients towards zero, but rarely exactly to zero.\n",
    "Lasso Regression encourages exact zeroing of some coefficients, effectively performing feature selection."
   ]
  },
  {
   "cell_type": "code",
   "execution_count": null,
   "metadata": {},
   "outputs": [],
   "source": [
    "##ans7\n",
    "Lasso Regression automatically performs feature selection, handling multicollinearity by setting some coefficients to zero."
   ]
  }
 ],
 "metadata": {
  "language_info": {
   "name": "python"
  }
 },
 "nbformat": 4,
 "nbformat_minor": 2
}
