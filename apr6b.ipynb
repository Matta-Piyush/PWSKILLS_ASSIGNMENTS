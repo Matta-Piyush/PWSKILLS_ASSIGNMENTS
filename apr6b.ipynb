{
 "cells": [
  {
   "cell_type": "code",
   "execution_count": null,
   "metadata": {},
   "outputs": [],
   "source": [
    "##ans1\n",
    "In machine learning, a kernel function is a way of implicitly mapping data points into a higher-dimensional space without explicitly calculating the transformation. Polynomial kernel functions are a type of kernel that uses polynomial functions to achieve this mapping. The relationship between polynomial functions and kernel functions lies in the mathematical formulation of the kernel."
   ]
  },
  {
   "cell_type": "code",
   "execution_count": null,
   "metadata": {},
   "outputs": [],
   "source": [
    "##ans2\n",
    "using the below code:\n",
    "svm_poly = SVC(kernel='poly', degree=3, C=1.0)\n",
    "svm_poly.fit(X_train, y_train)\n",
    "here parameter degree is the degree of the polynomial\n"
   ]
  },
  {
   "cell_type": "code",
   "execution_count": null,
   "metadata": {},
   "outputs": [],
   "source": [
    "##ans3\n",
    "As epsilon increases, the tube widens.\n",
    "A wider tube allows more data points to be within the permissible error range without contributing to the penalty term in the SVR objective function.\n",
    "Therefore, increasing epsilon generally leads to fewer support vectors because more data points are allowed to be within the wider tube without influencing the solution."
   ]
  },
  {
   "cell_type": "code",
   "execution_count": null,
   "metadata": {},
   "outputs": [],
   "source": [
    "##ans4\n",
    "The choice of the kernel function determines the mapping of data into a higher-dimensional space. Common choices include linear, polynomial, and radial basis function (RBF) kernels. The appropriate kernel depends on the characteristics of the data.\n",
    "C Parameter: The C parameter is the regularization parameter. A smaller C encourages a smoother decision boundary, allowing more errors within the tube.\n",
    "Epsilon Parameter : The epsilon parameter defines the width of the tube around the regression line. A larger allows more data points to be within the tube without contributing to the loss.\n",
    "Gamma Parameter: The gamma parameter influences the shape of the decision boundary. A smaller gamma leads to a softer, more extended decision boundary, while a larger gamma results in a more complex, tightly fitted boundary. "
   ]
  }
 ],
 "metadata": {
  "language_info": {
   "name": "python"
  }
 },
 "nbformat": 4,
 "nbformat_minor": 2
}
