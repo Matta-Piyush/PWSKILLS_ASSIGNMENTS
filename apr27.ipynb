{
 "cells": [
  {
   "cell_type": "code",
   "execution_count": null,
   "metadata": {},
   "outputs": [],
   "source": [
    "##ans1\n",
    "Partitioning Methods:\n",
    "\n",
    "K-means\n",
    "K-medoids (PAM - Partitioning Around Medoids)\n",
    "Hierarchical Methods:\n",
    "\n",
    "Agglomerative Hierarchical Clustering\n",
    "Divisive Hierarchical Clustering\n",
    "Density-Based Methods:\n",
    "\n",
    "DBSCAN (Density-Based Spatial Clustering of Applications with Noise)"
   ]
  },
  {
   "cell_type": "code",
   "execution_count": null,
   "metadata": {},
   "outputs": [],
   "source": [
    "##ans2\n",
    "K-means clustering is a partitioning method that divides a dataset into K distinct, non-overlapping subsets (clusters). The algorithm iteratively assigns data points to clusters based on the mean of the points in each cluste"
   ]
  },
  {
   "cell_type": "code",
   "execution_count": null,
   "metadata": {},
   "outputs": [],
   "source": [
    "##ans3\n",
    "Advantages:\n",
    "\n",
    "Simple and computationally efficient.\n",
    "Scales well to large datasets.\n",
    "Works well with globular-shaped clusters.\n",
    "Limitations:\n",
    "\n",
    "Sensitive to initial centroid selection.\n",
    "Assumes clusters of similar size and shape.\n",
    "May converge to local optima."
   ]
  },
  {
   "cell_type": "code",
   "execution_count": null,
   "metadata": {},
   "outputs": [],
   "source": [
    "##ans4\n",
    "Elbow Method: Plotting the cost (inertia) against the number of clusters and looking for the \"elbow\" point.\n",
    "Silhouette Score: Evaluating the compactness and separation of clusters."
   ]
  },
  {
   "cell_type": "code",
   "execution_count": null,
   "metadata": {},
   "outputs": [],
   "source": [
    "##ans5\n",
    "Applications:\n",
    "\n",
    "Customer segmentation in marketing.\n",
    "Image compression and segmentation.\n",
    "Anomaly detection in network traffic.\n",
    "Document clustering in natural language processing.\n",
    "Genome analysis in bioinformatics."
   ]
  },
  {
   "cell_type": "code",
   "execution_count": null,
   "metadata": {},
   "outputs": [],
   "source": [
    "##ans6\n",
    "Interpreting K-means output involves examining the characteristics of each cluster, understanding the features that distinguish clusters, and assessing the homogeneity within clusters. Insights can include identifying distinct customer segments, patterns in data distribution, or areas of interest in spatial analysis."
   ]
  },
  {
   "cell_type": "code",
   "execution_count": null,
   "metadata": {},
   "outputs": [],
   "source": [
    "##ans7\n",
    "Challenges:\n",
    "\n",
    "Sensitive to Initial Centroids: Use multiple initializations and choose the best result.\n",
    "Selecting the Right K: Experiment with different values and use validation metrics.\n",
    "Handling Outliers: Preprocess data or consider robust alternatives like K-medoids."
   ]
  }
 ],
 "metadata": {
  "language_info": {
   "name": "python"
  }
 },
 "nbformat": 4,
 "nbformat_minor": 2
}
