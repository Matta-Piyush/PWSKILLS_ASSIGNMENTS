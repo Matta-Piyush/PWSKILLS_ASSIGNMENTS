{
 "cells": [
  {
   "cell_type": "code",
   "execution_count": null,
   "metadata": {},
   "outputs": [],
   "source": [
    "##ans1\n",
    "Feature selection in anomaly detection involves choosing relevant features and excluding irrelevant or redundant ones. The goal is to improve the efficiency and effectiveness of anomaly detection algorithms by reducing the dimensionality of the data. Relevant features contribute to the accurate identification of anomalies, while irrelevant features may introduce noise or hinder the performance of the algorithm."
   ]
  },
  {
   "cell_type": "code",
   "execution_count": null,
   "metadata": {},
   "outputs": [],
   "source": [
    "##ans2\n",
    "Common evaluation metrics for anomaly detection include:\n",
    "\n",
    "Precision, Recall, and F1 Score: Computed based on true positives, false positives, and false negatives.\n",
    "Area Under the Receiver Operating Characteristic (AUROC) Curve: Measures the trade-off between true positive rate and false positive rate."
   ]
  },
  {
   "cell_type": "code",
   "execution_count": null,
   "metadata": {},
   "outputs": [],
   "source": [
    "##ans3\n",
    "DBSCAN (Density-Based Spatial Clustering of Applications with Noise) is a clustering algorithm that groups together data points that are close to each other and have a sufficient number of neighbors, forming dense regions. It works by defining core points, which have a minimum number of neighbors within a specified distance (epsilon), and expands clusters by connecting density-reachable points."
   ]
  },
  {
   "cell_type": "code",
   "execution_count": null,
   "metadata": {},
   "outputs": [],
   "source": [
    "##ans4\n",
    "The epsilon parameter in DBSCAN determines the radius around a data point within which other points are considered its neighbors. A smaller epsilon may lead to more clusters being formed, potentially classifying outliers as separate clusters. On the other hand, a larger epsilon may merge clusters and consider more points as part of a single cluster. The choice of epsilon is crucial in balancing sensitivity to anomalies and the ability to form meaningful clusters."
   ]
  },
  {
   "cell_type": "code",
   "execution_count": null,
   "metadata": {},
   "outputs": [],
   "source": [
    "##ans5\n",
    "Core Points: Have a sufficient number of neighbors within the epsilon radius and form the dense core of a cluster.\n",
    "\n",
    "Border Points: Have fewer neighbors than required to be a core point but are reachable from a core point. They are part of a cluster but on its periphery.\n",
    "\n",
    "Noise Points: Have insufficient neighbors and do not belong to any cluster."
   ]
  },
  {
   "cell_type": "code",
   "execution_count": null,
   "metadata": {},
   "outputs": [],
   "source": [
    "##ans6\n",
    "DBSCAN can detect anomalies by labeling noise points as anomalies. Key parameters include:\n",
    "\n",
    "Epsilon (eps): Determines the radius within which points are considered neighbors.\n",
    "Minimum Samples (min_samples): Specifies the minimum number of neighbors required for a point to be a core point."
   ]
  },
  {
   "cell_type": "code",
   "execution_count": null,
   "metadata": {},
   "outputs": [],
   "source": [
    "##ans7\n",
    "The make_circles function in scikit-learn generates a dataset with concentric circles, making it suitable for testing clustering and anomaly detection algorithms. It creates a binary classification problem with a circular decision boundary, which can be challenging for certain algorithms."
   ]
  },
  {
   "cell_type": "code",
   "execution_count": null,
   "metadata": {},
   "outputs": [],
   "source": [
    "##ans8\n",
    "Local Outliers: Deviate significantly from their local neighborhood but may be part of a larger global pattern.\n",
    "\n",
    "Global Outliers: Deviate significantly from the overall distribution of the data."
   ]
  },
  {
   "cell_type": "code",
   "execution_count": null,
   "metadata": {},
   "outputs": [],
   "source": [
    "##ans9\n",
    "LOF measures the local density deviation of a data point with respect to its neighbors. A point with a substantially lower density than its neighbors is considered a local outlier. LOF assigns an anomaly score to each data point, and points with higher scores are more likely to be local outliers."
   ]
  },
  {
   "cell_type": "code",
   "execution_count": null,
   "metadata": {},
   "outputs": [],
   "source": [
    "##ans10\n",
    "Isolation Forest works by isolating instances in a tree-like structure. Global outliers are those that require fewer splits to be isolated in the trees. The algorithm assigns an anomaly score based on the average path length, and lower scores indicate global outliers."
   ]
  },
  {
   "cell_type": "code",
   "execution_count": null,
   "metadata": {},
   "outputs": [],
   "source": [
    "##ans11\n",
    "Local Outlier Detection:\n",
    "\n",
    "Intrusion detection in computer networks, where abnormal behavior may occur in specific parts of the network.\n",
    "Anomaly detection in time series data, where anomalies may be localized to specific time periods.\n",
    "Global Outlier Detection:\n",
    "\n",
    "Fraud detection in financial transactions, where fraudulent patterns may not be confined to a local region.\n",
    "Quality control in manufacturing, where a defect in a product could affect the entire production process."
   ]
  }
 ],
 "metadata": {
  "language_info": {
   "name": "python"
  }
 },
 "nbformat": 4,
 "nbformat_minor": 2
}
