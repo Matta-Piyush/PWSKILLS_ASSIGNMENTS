{
 "cells": [
  {
   "cell_type": "code",
   "execution_count": null,
   "metadata": {},
   "outputs": [],
   "source": [
    "##Ans1\n",
    "Matplotlib is a plotting library for the Python programming language and its numerical mathematics extension, NumPy. \n",
    "\n",
    "Five Plots:\n",
    "Line plot (plt.plot()).\n",
    "Scatter plot (plt.scatter()).\n",
    "Bar plot (plt.bar()).\n",
    "Histogram (plt.hist()).\n",
    "Box plot (plt.boxplot())."
   ]
  },
  {
   "cell_type": "code",
   "execution_count": null,
   "metadata": {},
   "outputs": [],
   "source": [
    "##Ans2\n",
    "import matplotlib.pyplot as plt\n",
    "import numpy as np\n",
    "\n",
    "np.random.seed(3)\n",
    "x = 3 + np.random.normal(0, 2, 50)\n",
    "y = 3 + np.random.normal(0, 2, len(x))\n",
    "\n",
    "plt.scatter(x, y)\n",
    "plt.title(\"Scatter Plot\")\n",
    "plt.xlabel(\"X-axis\")\n",
    "plt.ylabel(\"Y-axis\")\n",
    "plt.show()\n"
   ]
  },
  {
   "cell_type": "code",
   "execution_count": null,
   "metadata": {},
   "outputs": [],
   "source": [
    "##Ans3\n",
    "import matplotlib.pyplot as plt\n",
    "import numpy as np\n",
    "\n",
    "x = np.array([0, 1, 2, 3, 4, 5])\n",
    "y1 = np.array([0, 100, 200, 300, 400, 500])\n",
    "y2 = np.array([50, 20, 40, 20, 60, 70])\n",
    "y3 = np.array([10, 20, 30, 40, 50, 60])\n",
    "y4 = np.array([200, 350, 250, 550, 450, 150])\n",
    "\n",
    "plt.subplot(2, 2, 1)\n",
    "plt.plot(x, y1)\n",
    "plt.title(\"Line 1\")\n",
    "\n",
    "plt.subplot(2, 2, 2)\n",
    "plt.plot(x, y2)\n",
    "plt.title(\"Line 2\")\n",
    "\n",
    "plt.subplot(2, 2, 3)\n",
    "plt.plot(x, y3)\n",
    "plt.title(\"Line 3\")\n",
    "\n",
    "plt.subplot(2, 2, 4)\n",
    "plt.plot(x, y4)\n",
    "plt.title(\"Line 4\")\n",
    "\n",
    "plt.tight_layout()\n",
    "plt.show()\n"
   ]
  },
  {
   "cell_type": "code",
   "execution_count": null,
   "metadata": {},
   "outputs": [],
   "source": [
    "##Ans4\n",
    "import matplotlib.pyplot as plt\n",
    "import numpy as np\n",
    "\n",
    "company = np.array([\"Apple\", \"Microsoft\", \"Google\", \"AMD\"])\n",
    "profit = np.array([3000, 8000, 1000, 10000])\n",
    "\n",
    "# Bar Plot\n",
    "plt.bar(company, profit)\n",
    "plt.title(\"Bar Plot\")\n",
    "plt.xlabel(\"Company\")\n",
    "plt.ylabel(\"Profit\")\n",
    "plt.show()\n",
    "\n",
    "# Horizontal Bar Plot\n",
    "plt.barh(company, profit)\n",
    "plt.title(\"Horizontal Bar Plot\")\n",
    "plt.xlabel(\"Profit\")\n",
    "plt.ylabel(\"Company\")\n",
    "plt.show()\n"
   ]
  },
  {
   "cell_type": "code",
   "execution_count": null,
   "metadata": {},
   "outputs": [],
   "source": [
    "##Ans5\n",
    "import matplotlib.pyplot as plt\n",
    "import numpy as np\n",
    "\n",
    "box1 = np.random.normal(100, 10, 200)\n",
    "box2 = np.random.normal(90, 20, 200)\n",
    "\n",
    "# Box Plot\n",
    "plt.boxplot([box1, box2], labels=['Box 1', 'Box 2'])\n",
    "plt.title(\"Box Plot\")\n",
    "plt.xlabel(\"Box\")\n",
    "plt.ylabel(\"Values\")\n",
    "plt.show()\n"
   ]
  }
 ],
 "metadata": {
  "language_info": {
   "name": "python"
  }
 },
 "nbformat": 4,
 "nbformat_minor": 2
}
