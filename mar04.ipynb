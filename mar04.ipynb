{
 "cells": [
  {
   "cell_type": "code",
   "execution_count": null,
   "metadata": {},
   "outputs": [],
   "source": [
    "##ans1\n",
    "import seaborn as sns\n",
    "import plotly.express as px\n",
    "\n",
    "titanic = sns.load_dataset(\"titanic\")\n",
    "\n",
    "fig = px.scatter(titanic, x=\"age\", y=\"fare\", title=\"Scatter Plot for Age and Fare\")\n",
    "fig.show()\n"
   ]
  },
  {
   "cell_type": "code",
   "execution_count": null,
   "metadata": {},
   "outputs": [],
   "source": [
    "##ans2\n",
    "import plotly.express as px\n",
    "tips = px.data.tips\n",
    "tips.head()\n",
    "fig = px.box(tips, x=\"day\", y=\"total_bill\", title=\"Box Plot for Tips Dataset\")\n",
    "fig.show()\n"
   ]
  },
  {
   "cell_type": "code",
   "execution_count": null,
   "metadata": {},
   "outputs": [],
   "source": [
    "##ans3\n",
    "import plotly.express as px\n",
    "tips = px.data.tips\n",
    "tips.head()\n",
    "fig = px.histogram(px.data.tips, x=\"sex\", y=\"total_bill\", color=\"day\", pattern_shape=\"smoker\")\n",
    "fig.show()\n"
   ]
  },
  {
   "cell_type": "code",
   "execution_count": null,
   "metadata": {},
   "outputs": [],
   "source": [
    "##ans4\n",
    "import plotly.express as px\n",
    "\n",
    "# Load the iris dataset from Plotly\n",
    "iris = px.data.iris\n",
    "\n",
    "fig = px.scatter_matrix(iris, dimensions=[\"sepal_length\", \"sepal_width\", \"petal_length\", \"petal_width\"],\n",
    "                        color=\"species\", title=\"Scatter Matrix Plot for Iris Dataset\")\n",
    "fig.show()\n"
   ]
  },
  {
   "cell_type": "code",
   "execution_count": null,
   "metadata": {},
   "outputs": [],
   "source": [
    "##ans5\n",
    "import plotly.express as px\n",
    "\n",
    "fig = px.histogram(px.data.tips, x=\"total_bill\", marginal=\"rug\", title=\"Distplot\")\n",
    "fig.show()\n"
   ]
  }
 ],
 "metadata": {
  "language_info": {
   "name": "python"
  }
 },
 "nbformat": 4,
 "nbformat_minor": 2
}
