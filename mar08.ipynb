{
 "cells": [
  {
   "cell_type": "code",
   "execution_count": null,
   "metadata": {},
   "outputs": [],
   "source": [
    "##ans1\n",
    "The Probability Density Function (PDF) describes the likelihood of a continuous random variable falling within a particular range. "
   ]
  },
  {
   "cell_type": "code",
   "execution_count": null,
   "metadata": {},
   "outputs": [],
   "source": [
    "##ans2\n",
    "Types:\n",
    "Normal Distribution: Symmetric bell-shaped curve.\n",
    "Binomial Distribution: Describes the number of successes in a fixed number of independent Bernoulli trials.\n",
    "Poisson Distribution: Describes the number of events occurring in a fixed interval of time or space."
   ]
  },
  {
   "cell_type": "code",
   "execution_count": null,
   "metadata": {},
   "outputs": [],
   "source": [
    "##ans4\n",
    "Fixed number of trials (n).\n",
    "Each trial is independent.\n",
    "Only two possible outcomes (success or failure).\n"
   ]
  },
  {
   "cell_type": "code",
   "execution_count": null,
   "metadata": {},
   "outputs": [],
   "source": [
    "##ans5\n",
    "import numpy as np\n",
    "import matplotlib.pyplot as plt\n",
    "\n",
    "sample = np.random.binomial(n=10, p=0.4, size=1000)\n",
    "plt.hist(sample, bins=range(0, 12), density=True, alpha=0.7)\n",
    "plt.title(\"Binomial Distribution\")\n",
    "plt.show()\n"
   ]
  },
  {
   "cell_type": "code",
   "execution_count": null,
   "metadata": {},
   "outputs": [],
   "source": [
    "##ans6\n",
    "from scipy.stats import poisson\n",
    "\n",
    "def poisson_cdf(k, mean):\n",
    "    return poisson.cdf(k, mean)\n"
   ]
  },
  {
   "cell_type": "code",
   "execution_count": null,
   "metadata": {},
   "outputs": [],
   "source": [
    "##ans7\n",
    "Binomial: Deals with a fixed number of trials, each with two outcomes.\n",
    "Poisson: Describes the number of events in a fixed interval, assuming events occur independently and at a constant rate."
   ]
  },
  {
   "cell_type": "code",
   "execution_count": null,
   "metadata": {},
   "outputs": [],
   "source": [
    "##ans10\n",
    "In a normal distribution, the least frequent data appears in the tails, farthest from the mean."
   ]
  }
 ],
 "metadata": {
  "language_info": {
   "name": "python"
  }
 },
 "nbformat": 4,
 "nbformat_minor": 2
}
