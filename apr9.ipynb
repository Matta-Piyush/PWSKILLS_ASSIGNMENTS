{
 "cells": [
  {
   "cell_type": "code",
   "execution_count": null,
   "metadata": {},
   "outputs": [],
   "source": [
    "##ans1\n",
    "Bayes' theorem is a fundamental concept in probability theory and statistics that describes the probability of an event based on prior knowledge of conditions that might be related to the event. It is named after Thomas Bayes, an 18th-century statistician. "
   ]
  },
  {
   "cell_type": "code",
   "execution_count": null,
   "metadata": {},
   "outputs": [],
   "source": [
    "##ans2\n",
    "formula:\n",
    "P(A|B)=P(B|A)*P(A)/P(B)"
   ]
  },
  {
   "cell_type": "code",
   "execution_count": null,
   "metadata": {},
   "outputs": [],
   "source": [
    "##ans3\n",
    "Bayes' theorem is used in various fields, including statistics, machine learning, and artificial intelligence. It is applied in scenarios where we want to update our beliefs based on new evidence or observations. Common applications include spam filtering, medical diagnosis, and document classification."
   ]
  },
  {
   "cell_type": "code",
   "execution_count": null,
   "metadata": {},
   "outputs": [],
   "source": [
    "##ans4\n",
    "Bayes' theorem is derived from conditional probability. The relationship is evident in the formula:P(A|B)=P(B|A)*P(A)/P(B)"
   ]
  },
  {
   "cell_type": "code",
   "execution_count": null,
   "metadata": {},
   "outputs": [],
   "source": [
    "##ans5\n",
    "The choice of the type of Naive Bayes classifier (e.g., Gaussian Naive Bayes, Multinomial Naive Bayes, or Bernoulli Naive Bayes) depends on the nature of the data:\n",
    "\n",
    "Gaussian Naive Bayes: When the features follow a Gaussian (normal) distribution. It is suitable for continuous numerical data.\n",
    "\n",
    "Multinomial Naive Bayes: When the features are discrete and represent the frequency of occurrences (e.g., word counts). It is commonly used in text classification."
   ]
  }
 ],
 "metadata": {
  "language_info": {
   "name": "python"
  }
 },
 "nbformat": 4,
 "nbformat_minor": 2
}
