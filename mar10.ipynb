{
 "cells": [
  {
   "cell_type": "code",
   "execution_count": null,
   "metadata": {},
   "outputs": [],
   "source": [
    "##ans1\n",
    "Estimation in statistics refers to the process of using sample data to make inferences or predictions about a population parameter"
   ]
  },
  {
   "cell_type": "code",
   "execution_count": null,
   "metadata": {},
   "outputs": [],
   "source": [
    "##ans3\n",
    "Hypothesis testing is a statistical method used to make inferences about population parameters based on a sample of data. It involves formulating a hypothesis about the population parameter, collecting sample data, and using statistical techniques "
   ]
  },
  {
   "cell_type": "code",
   "execution_count": null,
   "metadata": {},
   "outputs": [],
   "source": [
    "##ans6\n",
    "Null Hypothesis A statement that there is no significant difference or effect, often representing a default or status quo assumption.\n",
    "\n",
    "Alternative Hypothesis A statement that contradicts the null hypothesis, suggesting a significant difference or effect."
   ]
  },
  {
   "cell_type": "code",
   "execution_count": null,
   "metadata": {},
   "outputs": [],
   "source": [
    "##ans8\n",
    "The p-value is the probability of obtaining a test statistic as extreme as, or more extreme than, the one observed in the sample data, assuming the null hypothesis is true."
   ]
  },
  {
   "cell_type": "code",
   "execution_count": null,
   "metadata": {},
   "outputs": [],
   "source": [
    "##ans11\n",
    "he Student's t-distribution (or t-distribution) is a probability distribution that arises in the context of estimating the mean of a normally distributed population when the sample size is small and the population standard deviation is unknown. "
   ]
  },
  {
   "cell_type": "code",
   "execution_count": null,
   "metadata": {},
   "outputs": [],
   "source": [
    "##ans12\n",
    "The t-statistic is a test statistic used in hypothesis testing when dealing with small sample sizes. It is used to compare the sample mean to a known or hypothesized population mean and assess whether any observed differences are statistically significant."
   ]
  }
 ],
 "metadata": {
  "language_info": {
   "name": "python"
  }
 },
 "nbformat": 4,
 "nbformat_minor": 2
}
