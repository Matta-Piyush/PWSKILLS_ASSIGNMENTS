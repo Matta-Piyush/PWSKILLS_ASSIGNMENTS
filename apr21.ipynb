{
 "cells": [
  {
   "cell_type": "code",
   "execution_count": null,
   "metadata": {},
   "outputs": [],
   "source": [
    "##ans1\n",
    "Euclidean Distance: It is the straight-line distance between two points in Euclidean space. It considers the geometric distance between points.\n",
    "\n",
    "Manhattan Distance: It is the sum of the absolute differences between the coordinates of two points. It measures the distance along the grid lines."
   ]
  },
  {
   "cell_type": "code",
   "execution_count": null,
   "metadata": {},
   "outputs": [],
   "source": [
    "##ans2\n",
    "Cross-Validation: Perform k-fold cross-validation and choose the k that gives the best average performance across folds.\n",
    "Grid Search: Evaluate the model's performance for different values of k and choose the one with the best performance."
   ]
  },
  {
   "cell_type": "code",
   "execution_count": null,
   "metadata": {},
   "outputs": [],
   "source": [
    "##ans3\n",
    "The choice depends on the data characteristics. If features have similar importance and scales, Euclidean distance may be suitable. If feature importance varies or scales differ significantly, Manhattan distance might be more appropriate."
   ]
  },
  {
   "cell_type": "code",
   "execution_count": null,
   "metadata": {},
   "outputs": [],
   "source": [
    "##ans4\n",
    "Common hyperparameters include:\n",
    "\n",
    "k: The number of neighbors.\n",
    "Distance Metric: Euclidean, Manhattan, etc.\n",
    "Weights: Uniform or distance-weighted."
   ]
  },
  {
   "cell_type": "code",
   "execution_count": null,
   "metadata": {},
   "outputs": [],
   "source": [
    "##ans5\n",
    "Large Training Set:\n",
    "\n",
    "Reduces variability.\n",
    "Can lead to higher computational costs.\n",
    "\n",
    "Small Training Set:\n",
    "\n",
    "May result in overfitting.\n",
    "Limited representation of the data."
   ]
  },
  {
   "cell_type": "code",
   "execution_count": null,
   "metadata": {},
   "outputs": [],
   "source": [
    "##ans6\n",
    "Computational Complexity:\n",
    "\n",
    "Drawback: KNN can be computationally expensive, especially as the size of the dataset grows, because it requires computing distances between the query point and all data points in the training set.\n",
    "Improvement: Use efficient data structures such as KD-trees or Ball trees to speed up the search for nearest neighbors. "
   ]
  }
 ],
 "metadata": {
  "language_info": {
   "name": "python"
  }
 },
 "nbformat": 4,
 "nbformat_minor": 2
}
