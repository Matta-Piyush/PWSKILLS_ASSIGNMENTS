{
 "cells": [
  {
   "cell_type": "code",
   "execution_count": null,
   "metadata": {},
   "outputs": [],
   "source": [
    "ans1\n",
    "Time-dependent seasonal components refer to patterns in time series data that repeat at regular intervals but may change over time. Unlike fixed or constant seasonal components, time-dependent seasonality allows for variations or modifications in the seasonal patterns as the series progresses."
   ]
  },
  {
   "cell_type": "code",
   "execution_count": null,
   "metadata": {},
   "outputs": [],
   "source": [
    "ans2\n",
    "Identification of time-dependent seasonal components involves visual inspection of the data, such as plotting the series over time and looking for repeating patterns. Statistical methods like decomposition techniques (e.g., Seasonal-Trend decomposition using LOESS or STL decomposition) can help extract seasonal components."
   ]
  },
  {
   "cell_type": "code",
   "execution_count": null,
   "metadata": {},
   "outputs": [],
   "source": [
    "ans3\n",
    "Several factors can influence time-dependent seasonal components, including changes in consumer behavior, external events (e.g., holidays, promotions), economic shifts, and environmental factors. These components may evolve over time due to various external or internal influences."
   ]
  },
  {
   "cell_type": "code",
   "execution_count": null,
   "metadata": {},
   "outputs": [],
   "source": [
    "ans4\n",
    "Autoregression (AR) models are used in time series analysis to represent a variable as a linear combination of its past values. An AR model of order p is denoted as AR(p), indicating that the current value depends on the previous p values. These models are employed to capture temporal dependencies and trends in time series data."
   ]
  },
  {
   "cell_type": "code",
   "execution_count": null,
   "metadata": {},
   "outputs": [],
   "source": [
    "ans5\n",
    "To make predictions using autoregression models, the model parameters are estimated using historical data. Once the model is trained, it can be used to forecast future values by recursively applying the model to its own predictions. The predicted values become inputs for subsequent predictions."
   ]
  },
  {
   "cell_type": "code",
   "execution_count": null,
   "metadata": {},
   "outputs": [],
   "source": [
    "ans6\n",
    "A Moving Average (MA) model is another type of time series model that represents a variable as a linear combination of past white noise error terms. An MA model of order q is denoted as MA(q), indicating dependence on the past q error terms. Unlike autoregressive models, which depend on past observations, MA models depend on past forecast errors."
   ]
  },
  {
   "cell_type": "code",
   "execution_count": null,
   "metadata": {},
   "outputs": [],
   "source": [
    "ans7\n",
    "A Mixed Autoregressive Moving Average (ARMA) model combines autoregressive and moving average components to capture both temporal dependencies and the influence of past errors. An ARMA(p, q) model includes p autoregressive terms and q moving average terms. It provides a more flexible framework for modeling complex time series data compared to AR or MA models alone. The mixed model is denoted as ARMA(p, q)."
   ]
  }
 ],
 "metadata": {
  "language_info": {
   "name": "python"
  }
 },
 "nbformat": 4,
 "nbformat_minor": 2
}
