{
 "cells": [
  {
   "cell_type": "markdown",
   "id": "50af737e-9fa8-4ef2-aeb8-baf64ab4cef9",
   "metadata": {},
   "source": [
    "#                                         ANS-1"
   ]
  },
  {
   "cell_type": "code",
   "execution_count": null,
   "id": "369f4a42-6b5a-4581-abca-957272755ed9",
   "metadata": {},
   "outputs": [],
   "source": [
    "per=int(input(\"Enter your percentage \"))\n",
    "if(per>90):\n",
    "    print('Congratulations! Your grade is A')\n",
    "elif(80<per<=90):\n",
    "    print('Your grade is B')\n",
    "elif(60<=per<=80):\n",
    "    print('Your grade is C')\n",
    "elif(per<60):\n",
    "    print('Your grade is D')"
   ]
  },
  {
   "cell_type": "markdown",
   "id": "55d08df4-3659-4c0c-8a60-4f2735cd561d",
   "metadata": {},
   "source": [
    "#                                         ANS-2"
   ]
  },
  {
   "cell_type": "code",
   "execution_count": null,
   "id": "199791ad-40bf-4288-8761-7479d64716b2",
   "metadata": {},
   "outputs": [],
   "source": [
    "cp=int(input('Enter the cost price of your bike '))\n",
    "if cp>100000:\n",
    "    print('Road tax on your bike is Rs {}'.format(cp*0.15))\n",
    "elif 50000<cp<=100000:\n",
    "    print('Road tax on your bike is Rs {}'.format(cp*0.1))\n",
    "elif cp<=50000:\n",
    "    print('Road tax on your bike is Rs {}'.format(cp*0.05))"
   ]
  },
  {
   "cell_type": "markdown",
   "id": "dd24bef1-142d-4a69-ab8c-b574d3d59230",
   "metadata": {},
   "source": [
    "#                                         ANS-3"
   ]
  },
  {
   "cell_type": "code",
   "execution_count": null,
   "id": "8c1fc5a1-3985-419a-bd9f-d95878d7c55b",
   "metadata": {},
   "outputs": [],
   "source": [
    "city=input('Enter your favourite city ')\n",
    "if city=='Delhi':\n",
    "    print('Monument in Delhi is Red Fort')\n",
    "elif city=='Agra':\n",
    "    print('Monument in Agra is Taj Mahal')\n",
    "elif city=='Jaipur':\n",
    "    print('Monument in Jaipur is Jal Mahal')"
   ]
  },
  {
   "cell_type": "markdown",
   "id": "85aab42d-3609-4102-a4c5-8a8d5be395b7",
   "metadata": {},
   "source": [
    "#                                          ANS-4"
   ]
  },
  {
   "cell_type": "code",
   "execution_count": null,
   "id": "0da4c962-7b53-48ee-8daf-91e41eea5b2c",
   "metadata": {},
   "outputs": [],
   "source": [
    "n=int(input('Enter the number '))\n",
    "count=0\n",
    "if n%3==0:\n",
    "    while(n%3==0 and n>10):\n",
    "        n=n/3\n",
    "        count+=1\n",
    "    print('This number can be divided by {} times by 3'.format(count))\n",
    "else:\n",
    "    print('Number is not divisible by 3')"
   ]
  },
  {
   "cell_type": "markdown",
   "id": "e96c7f2a-b69e-44af-9138-ecbead328c7a",
   "metadata": {
    "tags": []
   },
   "source": [
    "#                                             ANS-5"
   ]
  },
  {
   "cell_type": "code",
   "execution_count": null,
   "id": "0565e33e-8bf2-44b0-963e-cbc99ddcc434",
   "metadata": {},
   "outputs": [],
   "source": [
    "'''In programming loops are used to run a block of code multiple times or unless the condition becomes false.\n",
    "Example- Let suppose if i wanna print a message 1000 times then instead of writing print statement 1000\n",
    "times we can use a loop i.e for or while.\n",
    "\n",
    "While loop in python is used to run a block of code until a condition becomes false.\n",
    "syntax of while loop is given below:\n",
    "    while(condition):                \n",
    "        block of code or body of while loop\n",
    "        \n",
    "Working->\n",
    "At first, condition is evaluated and if the condition is true then the block of code inside while loop is excecuted.\n",
    "The condition is evaluated again and again until the condition becomes false.When the condition becomes false the \n",
    "control will get out of the loop.'''\n",
    "\n",
    "# example--> print a table of any number\n",
    "\n",
    "def table():\n",
    "    n=int(input('Enter the number '))\n",
    "    i=1\n",
    "    while i<11:                                 # Here while loop is used to print the table\n",
    "        print('{}*{}={}'.format(n,i,n*i))\n",
    "        i+=1"
   ]
  },
  {
   "cell_type": "markdown",
   "id": "51833243-7826-4ef6-8692-784d67fd8962",
   "metadata": {},
   "source": [
    "#                                              ANS-6"
   ]
  },
  {
   "cell_type": "code",
   "execution_count": 9,
   "id": "433491b4-d378-4877-aa4c-17d2964d780f",
   "metadata": {},
   "outputs": [
    {
     "name": "stdout",
     "output_type": "stream",
     "text": [
      "{'a': 1, 'b': 2, 'c': 3}\n"
     ]
    }
   ],
   "source": [
    "my_dict = {\"a\": 1, \"b\": 2, \"c\": 3}\n",
    "\n",
    "my_set = set(my_dict.keys())\n",
    "\n",
    "my_set.add(\"d\")\n",
    "\n",
    "print(my_dict)\n"
   ]
  },
  {
   "cell_type": "code",
   "execution_count": null,
   "id": "ab812fa4-1a67-47d2-9f88-c4d4a1d0a425",
   "metadata": {},
   "outputs": [],
   "source": []
  }
 ],
 "metadata": {
  "kernelspec": {
   "display_name": "Python 3 (ipykernel)",
   "language": "python",
   "name": "python3"
  },
  "language_info": {
   "codemirror_mode": {
    "name": "ipython",
    "version": 3
   },
   "file_extension": ".py",
   "mimetype": "text/x-python",
   "name": "python",
   "nbconvert_exporter": "python",
   "pygments_lexer": "ipython3",
   "version": "3.10.8"
  }
 },
 "nbformat": 4,
 "nbformat_minor": 5
}
