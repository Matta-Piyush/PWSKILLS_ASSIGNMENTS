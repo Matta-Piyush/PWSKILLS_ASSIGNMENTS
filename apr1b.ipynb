{
 "cells": [
  {
   "cell_type": "code",
   "execution_count": null,
   "metadata": {},
   "outputs": [],
   "source": [
    "##ans1\n",
    "Grid Search CV (Cross-Validation) is used for hyperparameter tuning in machine learning.\n",
    "It systematically tests a predefined set of hyperparameter values to find the optimal combination that yields the best model performance."
   ]
  },
  {
   "cell_type": "code",
   "execution_count": null,
   "metadata": {},
   "outputs": [],
   "source": [
    "##ans2\n",
    "Grid Search CV: Tests all possible combinations of hyperparameter values within a predefined grid.\n",
    "Exhaustive but computationally expensive.\n",
    "Randomized Search CV: Randomly samples a specified number of hyperparameter combinations from the predefined search space"
   ]
  },
  {
   "cell_type": "code",
   "execution_count": null,
   "metadata": {},
   "outputs": [],
   "source": [
    "##ans3\n",
    "Data leakage occurs when information from the test set is inadvertently used to train the model, leading to overly optimistic performance estimates."
   ]
  },
  {
   "cell_type": "code",
   "execution_count": null,
   "metadata": {},
   "outputs": [],
   "source": [
    "##ans4\n",
    "Ensure strict separation of training and testing datasets.\n",
    "Avoid using future information in feature engineering."
   ]
  },
  {
   "cell_type": "code",
   "execution_count": null,
   "metadata": {},
   "outputs": [],
   "source": [
    "##ans5\n",
    "Ensure strict separation of training and testing datasets.\n",
    "Avoid using future information in feature engineering."
   ]
  },
  {
   "cell_type": "code",
   "execution_count": null,
   "metadata": {},
   "outputs": [],
   "source": [
    "##ans6\n",
    "Precision: Measures the accuracy of the positive predictions.\n",
    "Precision = TP / (TP + FP)\n",
    "Recall: Measures the ability of the model to capture all the positive instances.\n",
    "Recall = TP / (TP + FN)"
   ]
  },
  {
   "cell_type": "code",
   "execution_count": null,
   "metadata": {},
   "outputs": [],
   "source": [
    "##ans7\n",
    "Types of Errors:\n",
    "Diagnose model errors by examining the False Positives and False Negatives.\n",
    "Understand which classes the model struggles with."
   ]
  },
  {
   "cell_type": "code",
   "execution_count": null,
   "metadata": {},
   "outputs": [],
   "source": [
    "##ans8\n",
    "Accuracy, F1-score, Sensitivity, Specificity, ROC-AUC, etc.\n",
    "Calculated from the values in the confusion matrix."
   ]
  },
  {
   "cell_type": "code",
   "execution_count": null,
   "metadata": {},
   "outputs": [],
   "source": [
    "##ans9\n",
    "Accuracy=(TP + TN) / (TP + TN + FP + FN)"
   ]
  }
 ],
 "metadata": {
  "language_info": {
   "name": "python"
  }
 },
 "nbformat": 4,
 "nbformat_minor": 2
}
