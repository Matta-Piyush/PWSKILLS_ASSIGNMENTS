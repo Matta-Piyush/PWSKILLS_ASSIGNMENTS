{
 "cells": [
  {
   "cell_type": "code",
   "execution_count": null,
   "metadata": {},
   "outputs": [],
   "source": [
    "##ans1\n",
    "Artificial Intelligence (AI): AI refers to the development of computer systems that can perform tasks that typically require human intelligence. Example: Speech recognition systems like Siri or Google Assistant.\n",
    "\n",
    "Machine Learning (ML): ML is a subset of AI that focuses on the development of algorithms that enable computers to learn from data and make predictions. Example: Spam filters that learn to classify emails as spam or not.\n",
    "\n",
    "Deep Learning (DL): DL is a specialized form of ML that involves neural networks with many layers (deep neural networks). Example: Image recognition systems like those used in facial recognition.\n",
    "\n",
    "Data Science (DS): DS involves extracting insights and knowledge from structured and unstructured data. Example: Analyzing customer data to identify patterns and make business recommendations."
   ]
  },
  {
   "cell_type": "code",
   "execution_count": null,
   "metadata": {},
   "outputs": [],
   "source": [
    "##ans2\n",
    "Supervised learning is a type of machine learning where the algorithm is trained on a labeled dataset, meaning that each input is paired with its corresponding output. "
   ]
  },
  {
   "cell_type": "code",
   "execution_count": null,
   "metadata": {},
   "outputs": [],
   "source": [
    "##ans3\n",
    "Unsupervised learning is a type of machine learning where the algorithm is trained on an unlabeled dataset, and the system tries to learn the patterns and structure from the data."
   ]
  },
  {
   "cell_type": "code",
   "execution_count": null,
   "metadata": {},
   "outputs": [],
   "source": [
    "##ans4\n",
    "AI is a broader concept encompassing the development of intelligent systems.\n",
    "ML is a subset of AI focusing on algorithms and models that learn from data.\n",
    "DL is a specialized form of ML using deep neural networks.\n",
    "DS involves extracting insights and knowledge from data using various techniques, including ML."
   ]
  },
  {
   "cell_type": "code",
   "execution_count": null,
   "metadata": {},
   "outputs": [],
   "source": [
    "##ans5\n",
    "Supervised Learning uses labeled data for training, Unsupervised Learning uses unlabeled data, and Semi-Supervised Learning combines both."
   ]
  },
  {
   "cell_type": "code",
   "execution_count": null,
   "metadata": {},
   "outputs": [],
   "source": [
    "##ans6\n",
    "Train Set: Data used for training the model.\n",
    "Test Set: Independent data used to evaluate the model's performance.\n",
    "Validation Set: Subset of the training set used to fine-tune and validate the model during training."
   ]
  },
  {
   "cell_type": "code",
   "execution_count": null,
   "metadata": {},
   "outputs": [],
   "source": [
    "##ans7\n",
    "Unsupervised learning can identify patterns in normal behavior and detect anomalies or outliers in data without the need for labeled examples."
   ]
  },
  {
   "cell_type": "code",
   "execution_count": null,
   "metadata": {},
   "outputs": [],
   "source": [
    "##ans8\n",
    "Supervised Learning Algorithms: Linear Regression, Decision Trees, Support Vector Machines.\n",
    "Unsupervised Learning Algorithms: K-Means Clustering, Hierarchical Clustering, Principal Component Analysis (PCA)."
   ]
  }
 ],
 "metadata": {
  "language_info": {
   "name": "python"
  }
 },
 "nbformat": 4,
 "nbformat_minor": 2
}
